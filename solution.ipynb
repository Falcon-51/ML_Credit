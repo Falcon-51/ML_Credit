{
 "cells": [
  {
   "cell_type": "code",
   "execution_count": 98,
   "id": "9923d880-3546-44bf-bd3a-d3d156996901",
   "metadata": {},
   "outputs": [],
   "source": [
    "import numpy as np\n",
    "import matplotlib.pyplot as plt\n",
    "import pandas as pd\n",
    "import seaborn as sns\n",
    "from sklearn.model_selection import train_test_split\n",
    "from sklearn.metrics import mean_squared_error, roc_auc_score\n",
    "from sklearn.feature_extraction import DictVectorizer\n",
    "from sklearn.tree import DecisionTreeClassifier, export_graphviz, export_text\n",
    "from sklearn.ensemble import RandomForestClassifier\n",
    "import graphviz\n",
    "import xgboost as xgb\n",
    "%matplotlib inline"
   ]
  },
  {
   "cell_type": "markdown",
   "id": "1708accc-b393-4cd1-a2b5-6618f8381fa0",
   "metadata": {},
   "source": [
    "# 1. Подготовка датасета"
   ]
  },
  {
   "cell_type": "markdown",
   "id": "1aec92f1-49df-47c5-9f03-6e875b36a358",
   "metadata": {},
   "source": [
    "#### Описание датасета\n",
    "- status — удалось ли клиенту погасить кредит (1) или нет (2);\n",
    "- seniority — стаж работы в годах;\n",
    "- home — тип домовладения: аренда (1), владение (2) и другие;\n",
    "- time — планируемый срок предоставления кредита (в месяцах);\n",
    "- age — возраст клиента;\n",
    "- marital[status] — холост (1), женат (2) и др.;\n",
    "- records — есть ли у клиента какие-либо предыдущие записи: нет (1), да (2) (из описания набора данных неясно, о каких записях здесь идет речь. Можно предположить, что речь о записях в базе данных банка);\n",
    "- job — тип работы: полный рабочий день (1), неполный рабочий день (2) и другие;\n",
    "- expenses — сколько клиент тратит в месяц;\n",
    "- income — сколько клиент зарабатывает в месяц;\n",
    "- assets — общая стоимость всех активов клиента;\n",
    "- debt — сумма кредитной задолженности;\n",
    "- amount — запрашиваемая сумма кредита;\n",
    "- price — цена товара, который клиент хочет приобрести."
   ]
  },
  {
   "cell_type": "markdown",
   "id": "99fd71e8-a5f2-45ac-91c4-bb04d15de82b",
   "metadata": {},
   "source": [
    "#### Считаем данные"
   ]
  },
  {
   "cell_type": "code",
   "execution_count": 99,
   "id": "0921d976-ff47-4d53-b2c5-db9677fe2627",
   "metadata": {},
   "outputs": [],
   "source": [
    "df = pd.read_csv('CreditScoring.csv')"
   ]
  },
  {
   "cell_type": "code",
   "execution_count": 100,
   "id": "89dc60f2-46fb-429b-9bda-bf8563a44653",
   "metadata": {},
   "outputs": [
    {
     "data": {
      "text/html": [
       "<div>\n",
       "<style scoped>\n",
       "    .dataframe tbody tr th:only-of-type {\n",
       "        vertical-align: middle;\n",
       "    }\n",
       "\n",
       "    .dataframe tbody tr th {\n",
       "        vertical-align: top;\n",
       "    }\n",
       "\n",
       "    .dataframe thead th {\n",
       "        text-align: right;\n",
       "    }\n",
       "</style>\n",
       "<table border=\"1\" class=\"dataframe\">\n",
       "  <thead>\n",
       "    <tr style=\"text-align: right;\">\n",
       "      <th></th>\n",
       "      <th>Status</th>\n",
       "      <th>Seniority</th>\n",
       "      <th>Home</th>\n",
       "      <th>Time</th>\n",
       "      <th>Age</th>\n",
       "      <th>Marital</th>\n",
       "      <th>Records</th>\n",
       "      <th>Job</th>\n",
       "      <th>Expenses</th>\n",
       "      <th>Income</th>\n",
       "      <th>Assets</th>\n",
       "      <th>Debt</th>\n",
       "      <th>Amount</th>\n",
       "      <th>Price</th>\n",
       "    </tr>\n",
       "  </thead>\n",
       "  <tbody>\n",
       "    <tr>\n",
       "      <th>0</th>\n",
       "      <td>1</td>\n",
       "      <td>9</td>\n",
       "      <td>1</td>\n",
       "      <td>60</td>\n",
       "      <td>30</td>\n",
       "      <td>2</td>\n",
       "      <td>1</td>\n",
       "      <td>3</td>\n",
       "      <td>73</td>\n",
       "      <td>129</td>\n",
       "      <td>0</td>\n",
       "      <td>0</td>\n",
       "      <td>800</td>\n",
       "      <td>846</td>\n",
       "    </tr>\n",
       "    <tr>\n",
       "      <th>1</th>\n",
       "      <td>1</td>\n",
       "      <td>17</td>\n",
       "      <td>1</td>\n",
       "      <td>60</td>\n",
       "      <td>58</td>\n",
       "      <td>3</td>\n",
       "      <td>1</td>\n",
       "      <td>1</td>\n",
       "      <td>48</td>\n",
       "      <td>131</td>\n",
       "      <td>0</td>\n",
       "      <td>0</td>\n",
       "      <td>1000</td>\n",
       "      <td>1658</td>\n",
       "    </tr>\n",
       "    <tr>\n",
       "      <th>2</th>\n",
       "      <td>2</td>\n",
       "      <td>10</td>\n",
       "      <td>2</td>\n",
       "      <td>36</td>\n",
       "      <td>46</td>\n",
       "      <td>2</td>\n",
       "      <td>2</td>\n",
       "      <td>3</td>\n",
       "      <td>90</td>\n",
       "      <td>200</td>\n",
       "      <td>3000</td>\n",
       "      <td>0</td>\n",
       "      <td>2000</td>\n",
       "      <td>2985</td>\n",
       "    </tr>\n",
       "    <tr>\n",
       "      <th>3</th>\n",
       "      <td>1</td>\n",
       "      <td>0</td>\n",
       "      <td>1</td>\n",
       "      <td>60</td>\n",
       "      <td>24</td>\n",
       "      <td>1</td>\n",
       "      <td>1</td>\n",
       "      <td>1</td>\n",
       "      <td>63</td>\n",
       "      <td>182</td>\n",
       "      <td>2500</td>\n",
       "      <td>0</td>\n",
       "      <td>900</td>\n",
       "      <td>1325</td>\n",
       "    </tr>\n",
       "    <tr>\n",
       "      <th>4</th>\n",
       "      <td>1</td>\n",
       "      <td>0</td>\n",
       "      <td>1</td>\n",
       "      <td>36</td>\n",
       "      <td>26</td>\n",
       "      <td>1</td>\n",
       "      <td>1</td>\n",
       "      <td>1</td>\n",
       "      <td>46</td>\n",
       "      <td>107</td>\n",
       "      <td>0</td>\n",
       "      <td>0</td>\n",
       "      <td>310</td>\n",
       "      <td>910</td>\n",
       "    </tr>\n",
       "  </tbody>\n",
       "</table>\n",
       "</div>"
      ],
      "text/plain": [
       "   Status  Seniority  Home  Time  Age  Marital  Records  Job  Expenses  \\\n",
       "0       1          9     1    60   30        2        1    3        73   \n",
       "1       1         17     1    60   58        3        1    1        48   \n",
       "2       2         10     2    36   46        2        2    3        90   \n",
       "3       1          0     1    60   24        1        1    1        63   \n",
       "4       1          0     1    36   26        1        1    1        46   \n",
       "\n",
       "   Income  Assets  Debt  Amount  Price  \n",
       "0     129       0     0     800    846  \n",
       "1     131       0     0    1000   1658  \n",
       "2     200    3000     0    2000   2985  \n",
       "3     182    2500     0     900   1325  \n",
       "4     107       0     0     310    910  "
      ]
     },
     "execution_count": 100,
     "metadata": {},
     "output_type": "execute_result"
    }
   ],
   "source": [
    "df.head()"
   ]
  },
  {
   "cell_type": "markdown",
   "id": "fa5c9827-79d5-4de6-b41e-ef21cf1289c9",
   "metadata": {},
   "source": [
    "#### Приведём названия столбцов к нижнему регистру"
   ]
  },
  {
   "cell_type": "code",
   "execution_count": 101,
   "id": "4c58077b-b465-41d0-8b27-ce2a15a87d19",
   "metadata": {},
   "outputs": [
    {
     "data": {
      "text/html": [
       "<div>\n",
       "<style scoped>\n",
       "    .dataframe tbody tr th:only-of-type {\n",
       "        vertical-align: middle;\n",
       "    }\n",
       "\n",
       "    .dataframe tbody tr th {\n",
       "        vertical-align: top;\n",
       "    }\n",
       "\n",
       "    .dataframe thead th {\n",
       "        text-align: right;\n",
       "    }\n",
       "</style>\n",
       "<table border=\"1\" class=\"dataframe\">\n",
       "  <thead>\n",
       "    <tr style=\"text-align: right;\">\n",
       "      <th></th>\n",
       "      <th>status</th>\n",
       "      <th>seniority</th>\n",
       "      <th>home</th>\n",
       "      <th>time</th>\n",
       "      <th>age</th>\n",
       "      <th>marital</th>\n",
       "      <th>records</th>\n",
       "      <th>job</th>\n",
       "      <th>expenses</th>\n",
       "      <th>income</th>\n",
       "      <th>assets</th>\n",
       "      <th>debt</th>\n",
       "      <th>amount</th>\n",
       "      <th>price</th>\n",
       "    </tr>\n",
       "  </thead>\n",
       "  <tbody>\n",
       "    <tr>\n",
       "      <th>0</th>\n",
       "      <td>1</td>\n",
       "      <td>9</td>\n",
       "      <td>1</td>\n",
       "      <td>60</td>\n",
       "      <td>30</td>\n",
       "      <td>2</td>\n",
       "      <td>1</td>\n",
       "      <td>3</td>\n",
       "      <td>73</td>\n",
       "      <td>129</td>\n",
       "      <td>0</td>\n",
       "      <td>0</td>\n",
       "      <td>800</td>\n",
       "      <td>846</td>\n",
       "    </tr>\n",
       "    <tr>\n",
       "      <th>1</th>\n",
       "      <td>1</td>\n",
       "      <td>17</td>\n",
       "      <td>1</td>\n",
       "      <td>60</td>\n",
       "      <td>58</td>\n",
       "      <td>3</td>\n",
       "      <td>1</td>\n",
       "      <td>1</td>\n",
       "      <td>48</td>\n",
       "      <td>131</td>\n",
       "      <td>0</td>\n",
       "      <td>0</td>\n",
       "      <td>1000</td>\n",
       "      <td>1658</td>\n",
       "    </tr>\n",
       "    <tr>\n",
       "      <th>2</th>\n",
       "      <td>2</td>\n",
       "      <td>10</td>\n",
       "      <td>2</td>\n",
       "      <td>36</td>\n",
       "      <td>46</td>\n",
       "      <td>2</td>\n",
       "      <td>2</td>\n",
       "      <td>3</td>\n",
       "      <td>90</td>\n",
       "      <td>200</td>\n",
       "      <td>3000</td>\n",
       "      <td>0</td>\n",
       "      <td>2000</td>\n",
       "      <td>2985</td>\n",
       "    </tr>\n",
       "    <tr>\n",
       "      <th>3</th>\n",
       "      <td>1</td>\n",
       "      <td>0</td>\n",
       "      <td>1</td>\n",
       "      <td>60</td>\n",
       "      <td>24</td>\n",
       "      <td>1</td>\n",
       "      <td>1</td>\n",
       "      <td>1</td>\n",
       "      <td>63</td>\n",
       "      <td>182</td>\n",
       "      <td>2500</td>\n",
       "      <td>0</td>\n",
       "      <td>900</td>\n",
       "      <td>1325</td>\n",
       "    </tr>\n",
       "    <tr>\n",
       "      <th>4</th>\n",
       "      <td>1</td>\n",
       "      <td>0</td>\n",
       "      <td>1</td>\n",
       "      <td>36</td>\n",
       "      <td>26</td>\n",
       "      <td>1</td>\n",
       "      <td>1</td>\n",
       "      <td>1</td>\n",
       "      <td>46</td>\n",
       "      <td>107</td>\n",
       "      <td>0</td>\n",
       "      <td>0</td>\n",
       "      <td>310</td>\n",
       "      <td>910</td>\n",
       "    </tr>\n",
       "  </tbody>\n",
       "</table>\n",
       "</div>"
      ],
      "text/plain": [
       "   status  seniority  home  time  age  marital  records  job  expenses  \\\n",
       "0       1          9     1    60   30        2        1    3        73   \n",
       "1       1         17     1    60   58        3        1    1        48   \n",
       "2       2         10     2    36   46        2        2    3        90   \n",
       "3       1          0     1    60   24        1        1    1        63   \n",
       "4       1          0     1    36   26        1        1    1        46   \n",
       "\n",
       "   income  assets  debt  amount  price  \n",
       "0     129       0     0     800    846  \n",
       "1     131       0     0    1000   1658  \n",
       "2     200    3000     0    2000   2985  \n",
       "3     182    2500     0     900   1325  \n",
       "4     107       0     0     310    910  "
      ]
     },
     "execution_count": 101,
     "metadata": {},
     "output_type": "execute_result"
    }
   ],
   "source": [
    "df.columns = df.columns.str.lower()\n",
    "df.head()"
   ]
  },
  {
   "cell_type": "markdown",
   "id": "82647f5c-9392-4a74-99ed-d702a36a4869",
   "metadata": {},
   "source": [
    "#### Выведем информацию о датасете\n",
    "Хотя большинство столбцов числовые, мы видим и категориальные: status, home, marital[status], records и job. Однако значения, которые мы наблюдаем в датафрейме, являются числами, а не строками. Нам нужно привести их к их настоящим именам."
   ]
  },
  {
   "cell_type": "code",
   "execution_count": 102,
   "id": "32231107-3b56-413f-bf62-aaef5303ca5a",
   "metadata": {},
   "outputs": [
    {
     "name": "stdout",
     "output_type": "stream",
     "text": [
      "<class 'pandas.core.frame.DataFrame'>\n",
      "RangeIndex: 4455 entries, 0 to 4454\n",
      "Data columns (total 14 columns):\n",
      " #   Column     Non-Null Count  Dtype\n",
      "---  ------     --------------  -----\n",
      " 0   status     4455 non-null   int64\n",
      " 1   seniority  4455 non-null   int64\n",
      " 2   home       4455 non-null   int64\n",
      " 3   time       4455 non-null   int64\n",
      " 4   age        4455 non-null   int64\n",
      " 5   marital    4455 non-null   int64\n",
      " 6   records    4455 non-null   int64\n",
      " 7   job        4455 non-null   int64\n",
      " 8   expenses   4455 non-null   int64\n",
      " 9   income     4455 non-null   int64\n",
      " 10  assets     4455 non-null   int64\n",
      " 11  debt       4455 non-null   int64\n",
      " 12  amount     4455 non-null   int64\n",
      " 13  price      4455 non-null   int64\n",
      "dtypes: int64(14)\n",
      "memory usage: 487.4 KB\n"
     ]
    }
   ],
   "source": [
    "df.info()"
   ]
  },
  {
   "cell_type": "markdown",
   "id": "c19ede70-258d-40d5-a81b-7cc8f120abad",
   "metadata": {},
   "source": [
    "#### Декодируем числа по категориям.\n",
    "Мы начнем со столбца status. Значение 1 означает ОК‚ 2 означает default, а 0 означает, что значение отсутствует, — заменим его на unk (сокращение для unknown)."
   ]
  },
  {
   "cell_type": "code",
   "execution_count": 103,
   "id": "79c7a2b4-e3de-4f3b-8e4e-66d91ec46c39",
   "metadata": {},
   "outputs": [
    {
     "data": {
      "text/html": [
       "<div>\n",
       "<style scoped>\n",
       "    .dataframe tbody tr th:only-of-type {\n",
       "        vertical-align: middle;\n",
       "    }\n",
       "\n",
       "    .dataframe tbody tr th {\n",
       "        vertical-align: top;\n",
       "    }\n",
       "\n",
       "    .dataframe thead th {\n",
       "        text-align: right;\n",
       "    }\n",
       "</style>\n",
       "<table border=\"1\" class=\"dataframe\">\n",
       "  <thead>\n",
       "    <tr style=\"text-align: right;\">\n",
       "      <th></th>\n",
       "      <th>status</th>\n",
       "      <th>seniority</th>\n",
       "      <th>home</th>\n",
       "      <th>time</th>\n",
       "      <th>age</th>\n",
       "      <th>marital</th>\n",
       "      <th>records</th>\n",
       "      <th>job</th>\n",
       "      <th>expenses</th>\n",
       "      <th>income</th>\n",
       "      <th>assets</th>\n",
       "      <th>debt</th>\n",
       "      <th>amount</th>\n",
       "      <th>price</th>\n",
       "    </tr>\n",
       "  </thead>\n",
       "  <tbody>\n",
       "    <tr>\n",
       "      <th>0</th>\n",
       "      <td>ok</td>\n",
       "      <td>9</td>\n",
       "      <td>1</td>\n",
       "      <td>60</td>\n",
       "      <td>30</td>\n",
       "      <td>2</td>\n",
       "      <td>1</td>\n",
       "      <td>3</td>\n",
       "      <td>73</td>\n",
       "      <td>129</td>\n",
       "      <td>0</td>\n",
       "      <td>0</td>\n",
       "      <td>800</td>\n",
       "      <td>846</td>\n",
       "    </tr>\n",
       "    <tr>\n",
       "      <th>1</th>\n",
       "      <td>ok</td>\n",
       "      <td>17</td>\n",
       "      <td>1</td>\n",
       "      <td>60</td>\n",
       "      <td>58</td>\n",
       "      <td>3</td>\n",
       "      <td>1</td>\n",
       "      <td>1</td>\n",
       "      <td>48</td>\n",
       "      <td>131</td>\n",
       "      <td>0</td>\n",
       "      <td>0</td>\n",
       "      <td>1000</td>\n",
       "      <td>1658</td>\n",
       "    </tr>\n",
       "    <tr>\n",
       "      <th>2</th>\n",
       "      <td>default</td>\n",
       "      <td>10</td>\n",
       "      <td>2</td>\n",
       "      <td>36</td>\n",
       "      <td>46</td>\n",
       "      <td>2</td>\n",
       "      <td>2</td>\n",
       "      <td>3</td>\n",
       "      <td>90</td>\n",
       "      <td>200</td>\n",
       "      <td>3000</td>\n",
       "      <td>0</td>\n",
       "      <td>2000</td>\n",
       "      <td>2985</td>\n",
       "    </tr>\n",
       "    <tr>\n",
       "      <th>3</th>\n",
       "      <td>ok</td>\n",
       "      <td>0</td>\n",
       "      <td>1</td>\n",
       "      <td>60</td>\n",
       "      <td>24</td>\n",
       "      <td>1</td>\n",
       "      <td>1</td>\n",
       "      <td>1</td>\n",
       "      <td>63</td>\n",
       "      <td>182</td>\n",
       "      <td>2500</td>\n",
       "      <td>0</td>\n",
       "      <td>900</td>\n",
       "      <td>1325</td>\n",
       "    </tr>\n",
       "    <tr>\n",
       "      <th>4</th>\n",
       "      <td>ok</td>\n",
       "      <td>0</td>\n",
       "      <td>1</td>\n",
       "      <td>36</td>\n",
       "      <td>26</td>\n",
       "      <td>1</td>\n",
       "      <td>1</td>\n",
       "      <td>1</td>\n",
       "      <td>46</td>\n",
       "      <td>107</td>\n",
       "      <td>0</td>\n",
       "      <td>0</td>\n",
       "      <td>310</td>\n",
       "      <td>910</td>\n",
       "    </tr>\n",
       "  </tbody>\n",
       "</table>\n",
       "</div>"
      ],
      "text/plain": [
       "    status  seniority  home  time  age  marital  records  job  expenses  \\\n",
       "0       ok          9     1    60   30        2        1    3        73   \n",
       "1       ok         17     1    60   58        3        1    1        48   \n",
       "2  default         10     2    36   46        2        2    3        90   \n",
       "3       ok          0     1    60   24        1        1    1        63   \n",
       "4       ok          0     1    36   26        1        1    1        46   \n",
       "\n",
       "   income  assets  debt  amount  price  \n",
       "0     129       0     0     800    846  \n",
       "1     131       0     0    1000   1658  \n",
       "2     200    3000     0    2000   2985  \n",
       "3     182    2500     0     900   1325  \n",
       "4     107       0     0     310    910  "
      ]
     },
     "execution_count": 103,
     "metadata": {},
     "output_type": "execute_result"
    }
   ],
   "source": [
    "status_values = {\n",
    "    1:'ok',\n",
    "    2:'default',\n",
    "    0:'unk'\n",
    "}\n",
    "\n",
    "df.status = df.status.map(status_values)\n",
    "df.head()"
   ]
  },
  {
   "cell_type": "markdown",
   "id": "06fbdf31-810a-4f94-b3f5-9e8f25426f54",
   "metadata": {},
   "source": [
    "#### Повторим ту же процедуру для всех остальных столбцов.\n"
   ]
  },
  {
   "cell_type": "code",
   "execution_count": 104,
   "id": "c1b250a6-ac72-402e-b50e-dd2da7d3f137",
   "metadata": {},
   "outputs": [],
   "source": [
    "home_values = {\n",
    "    1:'rent',\n",
    "    2:'owner',\n",
    "    3:'private',\n",
    "    4:'ignore',\n",
    "    5:'parents',\n",
    "    6:'other',\n",
    "    0:'unk'\n",
    "}\n",
    "\n",
    "df.home = df.home.map(home_values)"
   ]
  },
  {
   "cell_type": "code",
   "execution_count": 105,
   "id": "178e6f8e-24e6-4bbe-9c51-7b53175f2109",
   "metadata": {},
   "outputs": [],
   "source": [
    "marital_values = {\n",
    "    1:'single',\n",
    "    2:'married',\n",
    "    3:'widow',\n",
    "    4:'separated',\n",
    "    5:'divorced',\n",
    "    0:'unk'\n",
    "}\n",
    "\n",
    "df.marital = df.marital.map(marital_values)"
   ]
  },
  {
   "cell_type": "code",
   "execution_count": 106,
   "id": "3bc32287-d26a-4d19-b57a-9b1ce3c8d9fb",
   "metadata": {},
   "outputs": [],
   "source": [
    "records_values = {\n",
    "    1:'no',\n",
    "    2:'yes',\n",
    "    0:'unk'\n",
    "}\n",
    "\n",
    "df.records = df.records.map(records_values)"
   ]
  },
  {
   "cell_type": "code",
   "execution_count": 107,
   "id": "0f5d7ab0-0589-4a77-8f16-b1231ddcd3db",
   "metadata": {},
   "outputs": [],
   "source": [
    "job_values = {\n",
    "    1:'fixed',\n",
    "    2:'partime',\n",
    "    3:'freelance',\n",
    "    4:'others',\n",
    "    0:'unk'\n",
    "}\n",
    "\n",
    "df.job = df.job.map(job_values)"
   ]
  },
  {
   "cell_type": "code",
   "execution_count": 108,
   "id": "5076d55d-68e4-4a58-b6d9-a146e9e9ebcf",
   "metadata": {},
   "outputs": [
    {
     "data": {
      "text/html": [
       "<div>\n",
       "<style scoped>\n",
       "    .dataframe tbody tr th:only-of-type {\n",
       "        vertical-align: middle;\n",
       "    }\n",
       "\n",
       "    .dataframe tbody tr th {\n",
       "        vertical-align: top;\n",
       "    }\n",
       "\n",
       "    .dataframe thead th {\n",
       "        text-align: right;\n",
       "    }\n",
       "</style>\n",
       "<table border=\"1\" class=\"dataframe\">\n",
       "  <thead>\n",
       "    <tr style=\"text-align: right;\">\n",
       "      <th></th>\n",
       "      <th>status</th>\n",
       "      <th>seniority</th>\n",
       "      <th>home</th>\n",
       "      <th>time</th>\n",
       "      <th>age</th>\n",
       "      <th>marital</th>\n",
       "      <th>records</th>\n",
       "      <th>job</th>\n",
       "      <th>expenses</th>\n",
       "      <th>income</th>\n",
       "      <th>assets</th>\n",
       "      <th>debt</th>\n",
       "      <th>amount</th>\n",
       "      <th>price</th>\n",
       "    </tr>\n",
       "  </thead>\n",
       "  <tbody>\n",
       "    <tr>\n",
       "      <th>0</th>\n",
       "      <td>ok</td>\n",
       "      <td>9</td>\n",
       "      <td>rent</td>\n",
       "      <td>60</td>\n",
       "      <td>30</td>\n",
       "      <td>married</td>\n",
       "      <td>no</td>\n",
       "      <td>freelance</td>\n",
       "      <td>73</td>\n",
       "      <td>129</td>\n",
       "      <td>0</td>\n",
       "      <td>0</td>\n",
       "      <td>800</td>\n",
       "      <td>846</td>\n",
       "    </tr>\n",
       "    <tr>\n",
       "      <th>1</th>\n",
       "      <td>ok</td>\n",
       "      <td>17</td>\n",
       "      <td>rent</td>\n",
       "      <td>60</td>\n",
       "      <td>58</td>\n",
       "      <td>widow</td>\n",
       "      <td>no</td>\n",
       "      <td>fixed</td>\n",
       "      <td>48</td>\n",
       "      <td>131</td>\n",
       "      <td>0</td>\n",
       "      <td>0</td>\n",
       "      <td>1000</td>\n",
       "      <td>1658</td>\n",
       "    </tr>\n",
       "    <tr>\n",
       "      <th>2</th>\n",
       "      <td>default</td>\n",
       "      <td>10</td>\n",
       "      <td>owner</td>\n",
       "      <td>36</td>\n",
       "      <td>46</td>\n",
       "      <td>married</td>\n",
       "      <td>yes</td>\n",
       "      <td>freelance</td>\n",
       "      <td>90</td>\n",
       "      <td>200</td>\n",
       "      <td>3000</td>\n",
       "      <td>0</td>\n",
       "      <td>2000</td>\n",
       "      <td>2985</td>\n",
       "    </tr>\n",
       "    <tr>\n",
       "      <th>3</th>\n",
       "      <td>ok</td>\n",
       "      <td>0</td>\n",
       "      <td>rent</td>\n",
       "      <td>60</td>\n",
       "      <td>24</td>\n",
       "      <td>single</td>\n",
       "      <td>no</td>\n",
       "      <td>fixed</td>\n",
       "      <td>63</td>\n",
       "      <td>182</td>\n",
       "      <td>2500</td>\n",
       "      <td>0</td>\n",
       "      <td>900</td>\n",
       "      <td>1325</td>\n",
       "    </tr>\n",
       "    <tr>\n",
       "      <th>4</th>\n",
       "      <td>ok</td>\n",
       "      <td>0</td>\n",
       "      <td>rent</td>\n",
       "      <td>36</td>\n",
       "      <td>26</td>\n",
       "      <td>single</td>\n",
       "      <td>no</td>\n",
       "      <td>fixed</td>\n",
       "      <td>46</td>\n",
       "      <td>107</td>\n",
       "      <td>0</td>\n",
       "      <td>0</td>\n",
       "      <td>310</td>\n",
       "      <td>910</td>\n",
       "    </tr>\n",
       "  </tbody>\n",
       "</table>\n",
       "</div>"
      ],
      "text/plain": [
       "    status  seniority   home  time  age  marital records        job  expenses  \\\n",
       "0       ok          9   rent    60   30  married      no  freelance        73   \n",
       "1       ok         17   rent    60   58    widow      no      fixed        48   \n",
       "2  default         10  owner    36   46  married     yes  freelance        90   \n",
       "3       ok          0   rent    60   24   single      no      fixed        63   \n",
       "4       ok          0   rent    36   26   single      no      fixed        46   \n",
       "\n",
       "   income  assets  debt  amount  price  \n",
       "0     129       0     0     800    846  \n",
       "1     131       0     0    1000   1658  \n",
       "2     200    3000     0    2000   2985  \n",
       "3     182    2500     0     900   1325  \n",
       "4     107       0     0     310    910  "
      ]
     },
     "execution_count": 108,
     "metadata": {},
     "output_type": "execute_result"
    }
   ],
   "source": [
    "df.head()"
   ]
  },
  {
   "cell_type": "markdown",
   "id": "8f7c7250-5185-4bf9-aa31-2c11a01a74db",
   "metadata": {},
   "source": [
    "#### Выведем основные статистические показатели\n",
    "Замечаем, что в некоторых случаях максимальное значение равно 99999999. Это довольно подозрительно. Как оказалось, это искусственное значение — именно так кодируются недостающие значения в этом наборе данных."
   ]
  },
  {
   "cell_type": "code",
   "execution_count": 109,
   "id": "4704b2ea-20bb-4686-99bb-2b79fed2163b",
   "metadata": {},
   "outputs": [
    {
     "data": {
      "text/html": [
       "<div>\n",
       "<style scoped>\n",
       "    .dataframe tbody tr th:only-of-type {\n",
       "        vertical-align: middle;\n",
       "    }\n",
       "\n",
       "    .dataframe tbody tr th {\n",
       "        vertical-align: top;\n",
       "    }\n",
       "\n",
       "    .dataframe thead th {\n",
       "        text-align: right;\n",
       "    }\n",
       "</style>\n",
       "<table border=\"1\" class=\"dataframe\">\n",
       "  <thead>\n",
       "    <tr style=\"text-align: right;\">\n",
       "      <th></th>\n",
       "      <th>seniority</th>\n",
       "      <th>time</th>\n",
       "      <th>age</th>\n",
       "      <th>expenses</th>\n",
       "      <th>income</th>\n",
       "      <th>assets</th>\n",
       "      <th>debt</th>\n",
       "      <th>amount</th>\n",
       "      <th>price</th>\n",
       "    </tr>\n",
       "  </thead>\n",
       "  <tbody>\n",
       "    <tr>\n",
       "      <th>count</th>\n",
       "      <td>4455.00</td>\n",
       "      <td>4455.00</td>\n",
       "      <td>4455.00</td>\n",
       "      <td>4455.00</td>\n",
       "      <td>4455.00</td>\n",
       "      <td>4455.00</td>\n",
       "      <td>4455.00</td>\n",
       "      <td>4455.00</td>\n",
       "      <td>4455.00</td>\n",
       "    </tr>\n",
       "    <tr>\n",
       "      <th>mean</th>\n",
       "      <td>7.99</td>\n",
       "      <td>46.44</td>\n",
       "      <td>37.08</td>\n",
       "      <td>55.57</td>\n",
       "      <td>763316.99</td>\n",
       "      <td>1060340.81</td>\n",
       "      <td>404381.96</td>\n",
       "      <td>1039.02</td>\n",
       "      <td>1462.88</td>\n",
       "    </tr>\n",
       "    <tr>\n",
       "      <th>std</th>\n",
       "      <td>8.17</td>\n",
       "      <td>14.66</td>\n",
       "      <td>10.98</td>\n",
       "      <td>19.52</td>\n",
       "      <td>8703625.26</td>\n",
       "      <td>10217568.67</td>\n",
       "      <td>6344253.40</td>\n",
       "      <td>474.54</td>\n",
       "      <td>628.09</td>\n",
       "    </tr>\n",
       "    <tr>\n",
       "      <th>min</th>\n",
       "      <td>0.00</td>\n",
       "      <td>6.00</td>\n",
       "      <td>18.00</td>\n",
       "      <td>35.00</td>\n",
       "      <td>0.00</td>\n",
       "      <td>0.00</td>\n",
       "      <td>0.00</td>\n",
       "      <td>100.00</td>\n",
       "      <td>105.00</td>\n",
       "    </tr>\n",
       "    <tr>\n",
       "      <th>25%</th>\n",
       "      <td>2.00</td>\n",
       "      <td>36.00</td>\n",
       "      <td>28.00</td>\n",
       "      <td>35.00</td>\n",
       "      <td>80.00</td>\n",
       "      <td>0.00</td>\n",
       "      <td>0.00</td>\n",
       "      <td>700.00</td>\n",
       "      <td>1117.50</td>\n",
       "    </tr>\n",
       "    <tr>\n",
       "      <th>50%</th>\n",
       "      <td>5.00</td>\n",
       "      <td>48.00</td>\n",
       "      <td>36.00</td>\n",
       "      <td>51.00</td>\n",
       "      <td>120.00</td>\n",
       "      <td>3500.00</td>\n",
       "      <td>0.00</td>\n",
       "      <td>1000.00</td>\n",
       "      <td>1400.00</td>\n",
       "    </tr>\n",
       "    <tr>\n",
       "      <th>75%</th>\n",
       "      <td>12.00</td>\n",
       "      <td>60.00</td>\n",
       "      <td>45.00</td>\n",
       "      <td>72.00</td>\n",
       "      <td>166.00</td>\n",
       "      <td>6000.00</td>\n",
       "      <td>0.00</td>\n",
       "      <td>1300.00</td>\n",
       "      <td>1692.00</td>\n",
       "    </tr>\n",
       "    <tr>\n",
       "      <th>max</th>\n",
       "      <td>48.00</td>\n",
       "      <td>72.00</td>\n",
       "      <td>68.00</td>\n",
       "      <td>180.00</td>\n",
       "      <td>99999999.00</td>\n",
       "      <td>99999999.00</td>\n",
       "      <td>99999999.00</td>\n",
       "      <td>5000.00</td>\n",
       "      <td>11140.00</td>\n",
       "    </tr>\n",
       "  </tbody>\n",
       "</table>\n",
       "</div>"
      ],
      "text/plain": [
       "       seniority     time      age  expenses       income       assets  \\\n",
       "count    4455.00  4455.00  4455.00   4455.00      4455.00      4455.00   \n",
       "mean        7.99    46.44    37.08     55.57    763316.99   1060340.81   \n",
       "std         8.17    14.66    10.98     19.52   8703625.26  10217568.67   \n",
       "min         0.00     6.00    18.00     35.00         0.00         0.00   \n",
       "25%         2.00    36.00    28.00     35.00        80.00         0.00   \n",
       "50%         5.00    48.00    36.00     51.00       120.00      3500.00   \n",
       "75%        12.00    60.00    45.00     72.00       166.00      6000.00   \n",
       "max        48.00    72.00    68.00    180.00  99999999.00  99999999.00   \n",
       "\n",
       "              debt   amount     price  \n",
       "count      4455.00  4455.00   4455.00  \n",
       "mean     404381.96  1039.02   1462.88  \n",
       "std     6344253.40   474.54    628.09  \n",
       "min           0.00   100.00    105.00  \n",
       "25%           0.00   700.00   1117.50  \n",
       "50%           0.00  1000.00   1400.00  \n",
       "75%           0.00  1300.00   1692.00  \n",
       "max    99999999.00  5000.00  11140.00  "
      ]
     },
     "execution_count": 109,
     "metadata": {},
     "output_type": "execute_result"
    }
   ],
   "source": [
    "df.describe().round(2)"
   ]
  },
  {
   "cell_type": "markdown",
   "id": "86dfb535-de83-4c51-89fc-658644d15ebd",
   "metadata": {},
   "source": [
    "#### Эта проблема наблюдается в трех столбцах: income, assets и debt. Заменим для них это большое число на NaN:\n"
   ]
  },
  {
   "cell_type": "code",
   "execution_count": 110,
   "id": "f859c562-2198-403d-b818-0717e68b5216",
   "metadata": {},
   "outputs": [],
   "source": [
    "for c in ['income', 'assets', 'debt']:\n",
    "    df[c] = df[c].replace(to_replace = 99999999, value=np.nan)"
   ]
  },
  {
   "cell_type": "code",
   "execution_count": 111,
   "id": "fb151499-9d25-4b04-befb-8f40f86c1495",
   "metadata": {},
   "outputs": [
    {
     "data": {
      "text/html": [
       "<div>\n",
       "<style scoped>\n",
       "    .dataframe tbody tr th:only-of-type {\n",
       "        vertical-align: middle;\n",
       "    }\n",
       "\n",
       "    .dataframe tbody tr th {\n",
       "        vertical-align: top;\n",
       "    }\n",
       "\n",
       "    .dataframe thead th {\n",
       "        text-align: right;\n",
       "    }\n",
       "</style>\n",
       "<table border=\"1\" class=\"dataframe\">\n",
       "  <thead>\n",
       "    <tr style=\"text-align: right;\">\n",
       "      <th></th>\n",
       "      <th>seniority</th>\n",
       "      <th>time</th>\n",
       "      <th>age</th>\n",
       "      <th>expenses</th>\n",
       "      <th>income</th>\n",
       "      <th>assets</th>\n",
       "      <th>debt</th>\n",
       "      <th>amount</th>\n",
       "      <th>price</th>\n",
       "    </tr>\n",
       "  </thead>\n",
       "  <tbody>\n",
       "    <tr>\n",
       "      <th>count</th>\n",
       "      <td>4455.00</td>\n",
       "      <td>4455.00</td>\n",
       "      <td>4455.00</td>\n",
       "      <td>4455.00</td>\n",
       "      <td>4421.00</td>\n",
       "      <td>4408.00</td>\n",
       "      <td>4437.00</td>\n",
       "      <td>4455.00</td>\n",
       "      <td>4455.00</td>\n",
       "    </tr>\n",
       "    <tr>\n",
       "      <th>mean</th>\n",
       "      <td>7.99</td>\n",
       "      <td>46.44</td>\n",
       "      <td>37.08</td>\n",
       "      <td>55.57</td>\n",
       "      <td>130.57</td>\n",
       "      <td>5403.43</td>\n",
       "      <td>342.95</td>\n",
       "      <td>1039.02</td>\n",
       "      <td>1462.88</td>\n",
       "    </tr>\n",
       "    <tr>\n",
       "      <th>std</th>\n",
       "      <td>8.17</td>\n",
       "      <td>14.66</td>\n",
       "      <td>10.98</td>\n",
       "      <td>19.52</td>\n",
       "      <td>86.37</td>\n",
       "      <td>11573.16</td>\n",
       "      <td>1245.86</td>\n",
       "      <td>474.54</td>\n",
       "      <td>628.09</td>\n",
       "    </tr>\n",
       "    <tr>\n",
       "      <th>min</th>\n",
       "      <td>0.00</td>\n",
       "      <td>6.00</td>\n",
       "      <td>18.00</td>\n",
       "      <td>35.00</td>\n",
       "      <td>0.00</td>\n",
       "      <td>0.00</td>\n",
       "      <td>0.00</td>\n",
       "      <td>100.00</td>\n",
       "      <td>105.00</td>\n",
       "    </tr>\n",
       "    <tr>\n",
       "      <th>25%</th>\n",
       "      <td>2.00</td>\n",
       "      <td>36.00</td>\n",
       "      <td>28.00</td>\n",
       "      <td>35.00</td>\n",
       "      <td>80.00</td>\n",
       "      <td>0.00</td>\n",
       "      <td>0.00</td>\n",
       "      <td>700.00</td>\n",
       "      <td>1117.50</td>\n",
       "    </tr>\n",
       "    <tr>\n",
       "      <th>50%</th>\n",
       "      <td>5.00</td>\n",
       "      <td>48.00</td>\n",
       "      <td>36.00</td>\n",
       "      <td>51.00</td>\n",
       "      <td>120.00</td>\n",
       "      <td>3000.00</td>\n",
       "      <td>0.00</td>\n",
       "      <td>1000.00</td>\n",
       "      <td>1400.00</td>\n",
       "    </tr>\n",
       "    <tr>\n",
       "      <th>75%</th>\n",
       "      <td>12.00</td>\n",
       "      <td>60.00</td>\n",
       "      <td>45.00</td>\n",
       "      <td>72.00</td>\n",
       "      <td>165.00</td>\n",
       "      <td>6000.00</td>\n",
       "      <td>0.00</td>\n",
       "      <td>1300.00</td>\n",
       "      <td>1692.00</td>\n",
       "    </tr>\n",
       "    <tr>\n",
       "      <th>max</th>\n",
       "      <td>48.00</td>\n",
       "      <td>72.00</td>\n",
       "      <td>68.00</td>\n",
       "      <td>180.00</td>\n",
       "      <td>959.00</td>\n",
       "      <td>300000.00</td>\n",
       "      <td>30000.00</td>\n",
       "      <td>5000.00</td>\n",
       "      <td>11140.00</td>\n",
       "    </tr>\n",
       "  </tbody>\n",
       "</table>\n",
       "</div>"
      ],
      "text/plain": [
       "       seniority     time      age  expenses   income     assets      debt  \\\n",
       "count    4455.00  4455.00  4455.00   4455.00  4421.00    4408.00   4437.00   \n",
       "mean        7.99    46.44    37.08     55.57   130.57    5403.43    342.95   \n",
       "std         8.17    14.66    10.98     19.52    86.37   11573.16   1245.86   \n",
       "min         0.00     6.00    18.00     35.00     0.00       0.00      0.00   \n",
       "25%         2.00    36.00    28.00     35.00    80.00       0.00      0.00   \n",
       "50%         5.00    48.00    36.00     51.00   120.00    3000.00      0.00   \n",
       "75%        12.00    60.00    45.00     72.00   165.00    6000.00      0.00   \n",
       "max        48.00    72.00    68.00    180.00   959.00  300000.00  30000.00   \n",
       "\n",
       "        amount     price  \n",
       "count  4455.00   4455.00  \n",
       "mean   1039.02   1462.88  \n",
       "std     474.54    628.09  \n",
       "min     100.00    105.00  \n",
       "25%     700.00   1117.50  \n",
       "50%    1000.00   1400.00  \n",
       "75%    1300.00   1692.00  \n",
       "max    5000.00  11140.00  "
      ]
     },
     "execution_count": 111,
     "metadata": {},
     "output_type": "execute_result"
    }
   ],
   "source": [
    "df.describe().round(2)"
   ]
  },
  {
   "cell_type": "markdown",
   "id": "f8ef0c34-d686-4c08-b3ad-f88e85c8fe12",
   "metadata": {},
   "source": [
    "#### Посмотрим количество пропущенных значений"
   ]
  },
  {
   "cell_type": "code",
   "execution_count": 112,
   "id": "2ff79582-0221-4e48-8df5-a2938b0cd256",
   "metadata": {},
   "outputs": [
    {
     "data": {
      "text/plain": [
       "status        0\n",
       "seniority     0\n",
       "home          0\n",
       "time          0\n",
       "age           0\n",
       "marital       0\n",
       "records       0\n",
       "job           0\n",
       "expenses      0\n",
       "income       34\n",
       "assets       47\n",
       "debt         18\n",
       "amount        0\n",
       "price         0\n",
       "dtype: int64"
      ]
     },
     "execution_count": 112,
     "metadata": {},
     "output_type": "execute_result"
    }
   ],
   "source": [
    "df.isnull().sum()"
   ]
  },
  {
   "cell_type": "markdown",
   "id": "4c699f7f-c958-49f9-bec5-918ce933858f",
   "metadata": {},
   "source": [
    "#### Прежде чем закончить подготовку набора данных, посмотрим на нашу целевую переменную status\n",
    "Обратим внимание, что имеется одна строка со статусом unknown: мы не знаем, удалось ли этому клиенту погасить кредит. Для нашего проекта она бесполезна, поэтому сразу удалим ее из набора данных\n"
   ]
  },
  {
   "cell_type": "code",
   "execution_count": 113,
   "id": "8093b569-2e85-4765-a78e-45adae8e3d4f",
   "metadata": {},
   "outputs": [
    {
     "data": {
      "text/plain": [
       "status\n",
       "ok         3200\n",
       "default    1254\n",
       "unk           1\n",
       "Name: count, dtype: int64"
      ]
     },
     "execution_count": 113,
     "metadata": {},
     "output_type": "execute_result"
    }
   ],
   "source": [
    "df.status.value_counts()"
   ]
  },
  {
   "cell_type": "code",
   "execution_count": 114,
   "id": "25493efe-96d2-4a38-bf51-9b40f64ae64b",
   "metadata": {},
   "outputs": [],
   "source": [
    "df = df[df.status != 'unk']"
   ]
  },
  {
   "cell_type": "markdown",
   "id": "f2e86ec8-3545-4e81-a9b9-c5ee670761aa",
   "metadata": {},
   "source": [
    "# 2. Подготовка набора данных"
   ]
  },
  {
   "cell_type": "markdown",
   "id": "fb0ee3fd-0741-48d5-83c4-ee231f4abd66",
   "metadata": {},
   "source": [
    "#### Разделим набор данных на обучающую, проверочную и тестовую выборку;"
   ]
  },
  {
   "cell_type": "code",
   "execution_count": 115,
   "id": "1395bc28-4799-42f0-84f8-afd35bb67c88",
   "metadata": {},
   "outputs": [],
   "source": [
    "df_train_full, df_test = train_test_split(df, test_size=0.2, random_state=42)\n",
    "df_train, df_val = train_test_split(df_train_full, test_size=0.25, random_state=11)"
   ]
  },
  {
   "cell_type": "code",
   "execution_count": 116,
   "id": "ba01822d-3f58-4ae0-a812-e52e25a064d9",
   "metadata": {},
   "outputs": [
    {
     "data": {
      "text/plain": [
       "(2672, 891, 891)"
      ]
     },
     "execution_count": 116,
     "metadata": {},
     "output_type": "execute_result"
    }
   ],
   "source": [
    "len(df_train), len(df_val), len(df_test)"
   ]
  },
  {
   "cell_type": "code",
   "execution_count": 117,
   "id": "a4b6f86d-11ce-4026-bed8-712f9c8f2722",
   "metadata": {},
   "outputs": [],
   "source": [
    "y_train = (df_train.status == 'default').values\n",
    "y_val = (df_val.status == 'default').values\n",
    "y_test = (df_test.status == 'default').values"
   ]
  },
  {
   "cell_type": "code",
   "execution_count": 118,
   "id": "eb4d370c-4af3-4a9f-9af9-64578e4d7e0f",
   "metadata": {},
   "outputs": [],
   "source": [
    "del df_train['status']\n",
    "del df_val['status']\n",
    "del df_test['status']"
   ]
  },
  {
   "cell_type": "markdown",
   "id": "b99857ed-5bb2-418e-9c2c-65725b01db8b",
   "metadata": {},
   "source": [
    "#### Далее мы позаботимся о X — матрице признаков.\n",
    "Из первоначального анализа мы знаем, что наши данные содержат недостающие значения — мы добавляли эти NaN самостоятельно. Мы\n",
    "можем заменить недостающие значения нулями"
   ]
  },
  {
   "cell_type": "code",
   "execution_count": 119,
   "id": "797a0b4d-1180-4410-a175-a10a443b5dcb",
   "metadata": {},
   "outputs": [],
   "source": [
    "df_train = df_train.fillna(0)\n",
    "df_val = df_val.fillna(0)\n",
    "df_test = df_test.fillna(0)"
   ]
  },
  {
   "cell_type": "markdown",
   "id": "9d7b9996-a193-40bd-8c7d-8691c7f8897b",
   "metadata": {},
   "source": [
    "#### Векторизуем данные с помощью DictVectorizer"
   ]
  },
  {
   "cell_type": "code",
   "execution_count": 120,
   "id": "5c3c8230-f35e-4d34-8e4c-f4cf2faa0f68",
   "metadata": {},
   "outputs": [
    {
     "data": {
      "text/plain": [
       "{'seniority': 1,\n",
       " 'home': 'parents',\n",
       " 'time': 48,\n",
       " 'age': 26,\n",
       " 'marital': 'single',\n",
       " 'records': 'no',\n",
       " 'job': 'freelance',\n",
       " 'expenses': 35,\n",
       " 'income': 500.0,\n",
       " 'assets': 0.0,\n",
       " 'debt': 0.0,\n",
       " 'amount': 1300,\n",
       " 'price': 1561}"
      ]
     },
     "execution_count": 120,
     "metadata": {},
     "output_type": "execute_result"
    }
   ],
   "source": [
    "dict_train = df_train.to_dict(orient='records')\n",
    "dict_val = df_val.to_dict(orient='records')\n",
    "dict_test = df_test.to_dict(orient='records')\n",
    "dict_train[0]"
   ]
  },
  {
   "cell_type": "markdown",
   "id": "3bdefc1a-367e-4422-9d02-9446a4d5c10c",
   "metadata": {},
   "source": [
    "#### Полученный список словарей теперь можно использовать в качестве входных данных для DictVectorizer:"
   ]
  },
  {
   "cell_type": "code",
   "execution_count": 121,
   "id": "c81cb10e-a5f6-48e5-a206-cf6973127e36",
   "metadata": {},
   "outputs": [],
   "source": [
    "dv = DictVectorizer(sparse=False)\n",
    "dv.fit(dict_train)\n",
    "\n",
    "X_train = dv.transform(dict_train)\n",
    "X_val = dv.transform(dict_val)\n",
    "X_test = dv.transform(dict_test)"
   ]
  },
  {
   "cell_type": "markdown",
   "id": "ac1326f8-32e9-41f4-af56-540849fd413e",
   "metadata": {},
   "source": [
    "# 3. Обучение дерева решений"
   ]
  },
  {
   "cell_type": "code",
   "execution_count": 122,
   "id": "887e97ad-b761-48eb-ad98-cb0f17c643c4",
   "metadata": {},
   "outputs": [
    {
     "data": {
      "text/html": [
       "<style>#sk-container-id-3 {color: black;}#sk-container-id-3 pre{padding: 0;}#sk-container-id-3 div.sk-toggleable {background-color: white;}#sk-container-id-3 label.sk-toggleable__label {cursor: pointer;display: block;width: 100%;margin-bottom: 0;padding: 0.3em;box-sizing: border-box;text-align: center;}#sk-container-id-3 label.sk-toggleable__label-arrow:before {content: \"▸\";float: left;margin-right: 0.25em;color: #696969;}#sk-container-id-3 label.sk-toggleable__label-arrow:hover:before {color: black;}#sk-container-id-3 div.sk-estimator:hover label.sk-toggleable__label-arrow:before {color: black;}#sk-container-id-3 div.sk-toggleable__content {max-height: 0;max-width: 0;overflow: hidden;text-align: left;background-color: #f0f8ff;}#sk-container-id-3 div.sk-toggleable__content pre {margin: 0.2em;color: black;border-radius: 0.25em;background-color: #f0f8ff;}#sk-container-id-3 input.sk-toggleable__control:checked~div.sk-toggleable__content {max-height: 200px;max-width: 100%;overflow: auto;}#sk-container-id-3 input.sk-toggleable__control:checked~label.sk-toggleable__label-arrow:before {content: \"▾\";}#sk-container-id-3 div.sk-estimator input.sk-toggleable__control:checked~label.sk-toggleable__label {background-color: #d4ebff;}#sk-container-id-3 div.sk-label input.sk-toggleable__control:checked~label.sk-toggleable__label {background-color: #d4ebff;}#sk-container-id-3 input.sk-hidden--visually {border: 0;clip: rect(1px 1px 1px 1px);clip: rect(1px, 1px, 1px, 1px);height: 1px;margin: -1px;overflow: hidden;padding: 0;position: absolute;width: 1px;}#sk-container-id-3 div.sk-estimator {font-family: monospace;background-color: #f0f8ff;border: 1px dotted black;border-radius: 0.25em;box-sizing: border-box;margin-bottom: 0.5em;}#sk-container-id-3 div.sk-estimator:hover {background-color: #d4ebff;}#sk-container-id-3 div.sk-parallel-item::after {content: \"\";width: 100%;border-bottom: 1px solid gray;flex-grow: 1;}#sk-container-id-3 div.sk-label:hover label.sk-toggleable__label {background-color: #d4ebff;}#sk-container-id-3 div.sk-serial::before {content: \"\";position: absolute;border-left: 1px solid gray;box-sizing: border-box;top: 0;bottom: 0;left: 50%;z-index: 0;}#sk-container-id-3 div.sk-serial {display: flex;flex-direction: column;align-items: center;background-color: white;padding-right: 0.2em;padding-left: 0.2em;position: relative;}#sk-container-id-3 div.sk-item {position: relative;z-index: 1;}#sk-container-id-3 div.sk-parallel {display: flex;align-items: stretch;justify-content: center;background-color: white;position: relative;}#sk-container-id-3 div.sk-item::before, #sk-container-id-3 div.sk-parallel-item::before {content: \"\";position: absolute;border-left: 1px solid gray;box-sizing: border-box;top: 0;bottom: 0;left: 50%;z-index: -1;}#sk-container-id-3 div.sk-parallel-item {display: flex;flex-direction: column;z-index: 1;position: relative;background-color: white;}#sk-container-id-3 div.sk-parallel-item:first-child::after {align-self: flex-end;width: 50%;}#sk-container-id-3 div.sk-parallel-item:last-child::after {align-self: flex-start;width: 50%;}#sk-container-id-3 div.sk-parallel-item:only-child::after {width: 0;}#sk-container-id-3 div.sk-dashed-wrapped {border: 1px dashed gray;margin: 0 0.4em 0.5em 0.4em;box-sizing: border-box;padding-bottom: 0.4em;background-color: white;}#sk-container-id-3 div.sk-label label {font-family: monospace;font-weight: bold;display: inline-block;line-height: 1.2em;}#sk-container-id-3 div.sk-label-container {text-align: center;}#sk-container-id-3 div.sk-container {/* jupyter's `normalize.less` sets `[hidden] { display: none; }` but bootstrap.min.css set `[hidden] { display: none !important; }` so we also need the `!important` here to be able to override the default hidden behavior on the sphinx rendered scikit-learn.org. See: https://github.com/scikit-learn/scikit-learn/issues/21755 */display: inline-block !important;position: relative;}#sk-container-id-3 div.sk-text-repr-fallback {display: none;}</style><div id=\"sk-container-id-3\" class=\"sk-top-container\"><div class=\"sk-text-repr-fallback\"><pre>DecisionTreeClassifier()</pre><b>In a Jupyter environment, please rerun this cell to show the HTML representation or trust the notebook. <br />On GitHub, the HTML representation is unable to render, please try loading this page with nbviewer.org.</b></div><div class=\"sk-container\" hidden><div class=\"sk-item\"><div class=\"sk-estimator sk-toggleable\"><input class=\"sk-toggleable__control sk-hidden--visually\" id=\"sk-estimator-id-3\" type=\"checkbox\" checked><label for=\"sk-estimator-id-3\" class=\"sk-toggleable__label sk-toggleable__label-arrow\">DecisionTreeClassifier</label><div class=\"sk-toggleable__content\"><pre>DecisionTreeClassifier()</pre></div></div></div></div></div>"
      ],
      "text/plain": [
       "DecisionTreeClassifier()"
      ]
     },
     "execution_count": 122,
     "metadata": {},
     "output_type": "execute_result"
    }
   ],
   "source": [
    "dt = DecisionTreeClassifier()\n",
    "dt.fit(X_train, y_train)"
   ]
  },
  {
   "cell_type": "markdown",
   "id": "52828212-d37b-4517-ac04-9be66334c630",
   "metadata": {},
   "source": [
    "#### Оценим качество обучения"
   ]
  },
  {
   "cell_type": "code",
   "execution_count": 123,
   "id": "cdd74c89-c5f2-4f21-964a-cd93276de6cf",
   "metadata": {},
   "outputs": [
    {
     "data": {
      "text/plain": [
       "0.9999996479071601"
      ]
     },
     "execution_count": 123,
     "metadata": {},
     "output_type": "execute_result"
    }
   ],
   "source": [
    "y_pred = dt.predict_proba(X_train)[:, 1]\n",
    "roc_auc_score(y_train, y_pred)"
   ]
  },
  {
   "cell_type": "code",
   "execution_count": 124,
   "id": "7dacfe99-3296-4217-9483-1750398bbeba",
   "metadata": {},
   "outputs": [
    {
     "data": {
      "text/plain": [
       "0.6707033465683494"
      ]
     },
     "execution_count": 124,
     "metadata": {},
     "output_type": "execute_result"
    }
   ],
   "source": [
    "y_pred = dt.predict_proba(X_val)[:, 1]\n",
    "roc_auc_score(y_val, y_pred)"
   ]
  },
  {
   "cell_type": "markdown",
   "id": "5df33b12-b2d7-4c0d-90bb-5512459f5525",
   "metadata": {},
   "source": [
    "#### Поставим ограничение роста дерева в глубину"
   ]
  },
  {
   "cell_type": "code",
   "execution_count": 125,
   "id": "a4b45b11-012a-4e83-a124-c6ddce1ba99a",
   "metadata": {},
   "outputs": [
    {
     "data": {
      "text/html": [
       "<style>#sk-container-id-4 {color: black;}#sk-container-id-4 pre{padding: 0;}#sk-container-id-4 div.sk-toggleable {background-color: white;}#sk-container-id-4 label.sk-toggleable__label {cursor: pointer;display: block;width: 100%;margin-bottom: 0;padding: 0.3em;box-sizing: border-box;text-align: center;}#sk-container-id-4 label.sk-toggleable__label-arrow:before {content: \"▸\";float: left;margin-right: 0.25em;color: #696969;}#sk-container-id-4 label.sk-toggleable__label-arrow:hover:before {color: black;}#sk-container-id-4 div.sk-estimator:hover label.sk-toggleable__label-arrow:before {color: black;}#sk-container-id-4 div.sk-toggleable__content {max-height: 0;max-width: 0;overflow: hidden;text-align: left;background-color: #f0f8ff;}#sk-container-id-4 div.sk-toggleable__content pre {margin: 0.2em;color: black;border-radius: 0.25em;background-color: #f0f8ff;}#sk-container-id-4 input.sk-toggleable__control:checked~div.sk-toggleable__content {max-height: 200px;max-width: 100%;overflow: auto;}#sk-container-id-4 input.sk-toggleable__control:checked~label.sk-toggleable__label-arrow:before {content: \"▾\";}#sk-container-id-4 div.sk-estimator input.sk-toggleable__control:checked~label.sk-toggleable__label {background-color: #d4ebff;}#sk-container-id-4 div.sk-label input.sk-toggleable__control:checked~label.sk-toggleable__label {background-color: #d4ebff;}#sk-container-id-4 input.sk-hidden--visually {border: 0;clip: rect(1px 1px 1px 1px);clip: rect(1px, 1px, 1px, 1px);height: 1px;margin: -1px;overflow: hidden;padding: 0;position: absolute;width: 1px;}#sk-container-id-4 div.sk-estimator {font-family: monospace;background-color: #f0f8ff;border: 1px dotted black;border-radius: 0.25em;box-sizing: border-box;margin-bottom: 0.5em;}#sk-container-id-4 div.sk-estimator:hover {background-color: #d4ebff;}#sk-container-id-4 div.sk-parallel-item::after {content: \"\";width: 100%;border-bottom: 1px solid gray;flex-grow: 1;}#sk-container-id-4 div.sk-label:hover label.sk-toggleable__label {background-color: #d4ebff;}#sk-container-id-4 div.sk-serial::before {content: \"\";position: absolute;border-left: 1px solid gray;box-sizing: border-box;top: 0;bottom: 0;left: 50%;z-index: 0;}#sk-container-id-4 div.sk-serial {display: flex;flex-direction: column;align-items: center;background-color: white;padding-right: 0.2em;padding-left: 0.2em;position: relative;}#sk-container-id-4 div.sk-item {position: relative;z-index: 1;}#sk-container-id-4 div.sk-parallel {display: flex;align-items: stretch;justify-content: center;background-color: white;position: relative;}#sk-container-id-4 div.sk-item::before, #sk-container-id-4 div.sk-parallel-item::before {content: \"\";position: absolute;border-left: 1px solid gray;box-sizing: border-box;top: 0;bottom: 0;left: 50%;z-index: -1;}#sk-container-id-4 div.sk-parallel-item {display: flex;flex-direction: column;z-index: 1;position: relative;background-color: white;}#sk-container-id-4 div.sk-parallel-item:first-child::after {align-self: flex-end;width: 50%;}#sk-container-id-4 div.sk-parallel-item:last-child::after {align-self: flex-start;width: 50%;}#sk-container-id-4 div.sk-parallel-item:only-child::after {width: 0;}#sk-container-id-4 div.sk-dashed-wrapped {border: 1px dashed gray;margin: 0 0.4em 0.5em 0.4em;box-sizing: border-box;padding-bottom: 0.4em;background-color: white;}#sk-container-id-4 div.sk-label label {font-family: monospace;font-weight: bold;display: inline-block;line-height: 1.2em;}#sk-container-id-4 div.sk-label-container {text-align: center;}#sk-container-id-4 div.sk-container {/* jupyter's `normalize.less` sets `[hidden] { display: none; }` but bootstrap.min.css set `[hidden] { display: none !important; }` so we also need the `!important` here to be able to override the default hidden behavior on the sphinx rendered scikit-learn.org. See: https://github.com/scikit-learn/scikit-learn/issues/21755 */display: inline-block !important;position: relative;}#sk-container-id-4 div.sk-text-repr-fallback {display: none;}</style><div id=\"sk-container-id-4\" class=\"sk-top-container\"><div class=\"sk-text-repr-fallback\"><pre>DecisionTreeClassifier(max_depth=2)</pre><b>In a Jupyter environment, please rerun this cell to show the HTML representation or trust the notebook. <br />On GitHub, the HTML representation is unable to render, please try loading this page with nbviewer.org.</b></div><div class=\"sk-container\" hidden><div class=\"sk-item\"><div class=\"sk-estimator sk-toggleable\"><input class=\"sk-toggleable__control sk-hidden--visually\" id=\"sk-estimator-id-4\" type=\"checkbox\" checked><label for=\"sk-estimator-id-4\" class=\"sk-toggleable__label sk-toggleable__label-arrow\">DecisionTreeClassifier</label><div class=\"sk-toggleable__content\"><pre>DecisionTreeClassifier(max_depth=2)</pre></div></div></div></div></div>"
      ],
      "text/plain": [
       "DecisionTreeClassifier(max_depth=2)"
      ]
     },
     "execution_count": 125,
     "metadata": {},
     "output_type": "execute_result"
    }
   ],
   "source": [
    "dt = DecisionTreeClassifier(max_depth=2)\n",
    "dt.fit(X_train, y_train)"
   ]
  },
  {
   "cell_type": "code",
   "execution_count": 126,
   "id": "62e26c2e-2ef9-4536-af84-923f2afaa163",
   "metadata": {},
   "outputs": [
    {
     "name": "stdout",
     "output_type": "stream",
     "text": [
      "|--- seniority <= 2.50\n",
      "|   |--- job=fixed <= 0.50\n",
      "|   |   |--- class: True\n",
      "|   |--- job=fixed >  0.50\n",
      "|   |   |--- class: False\n",
      "|--- seniority >  2.50\n",
      "|   |--- records=yes <= 0.50\n",
      "|   |   |--- class: False\n",
      "|   |--- records=yes >  0.50\n",
      "|   |   |--- class: False\n",
      "\n"
     ]
    }
   ],
   "source": [
    "tree_text = export_text(dt, feature_names=dv.feature_names_)\n",
    "print(tree_text)"
   ]
  },
  {
   "cell_type": "code",
   "execution_count": 127,
   "id": "251381ae-e44a-4dd9-81a5-6767b3bfec0f",
   "metadata": {},
   "outputs": [
    {
     "data": {
      "image/svg+xml": [
       "<?xml version=\"1.0\" encoding=\"UTF-8\" standalone=\"no\"?>\n",
       "<!DOCTYPE svg PUBLIC \"-//W3C//DTD SVG 1.1//EN\"\n",
       " \"http://www.w3.org/Graphics/SVG/1.1/DTD/svg11.dtd\">\n",
       "<!-- Generated by graphviz version 9.0.0 (20230911.1827)\n",
       " -->\n",
       "<!-- Title: Tree Pages: 1 -->\n",
       "<svg width=\"587pt\" height=\"286pt\"\n",
       " viewBox=\"0.00 0.00 587.25 285.50\" xmlns=\"http://www.w3.org/2000/svg\" xmlns:xlink=\"http://www.w3.org/1999/xlink\">\n",
       "<g id=\"graph0\" class=\"graph\" transform=\"scale(1 1) rotate(0) translate(4 281.5)\">\n",
       "<title>Tree</title>\n",
       "<polygon fill=\"white\" stroke=\"none\" points=\"-4,4 -4,-281.5 583.25,-281.5 583.25,4 -4,4\"/>\n",
       "<!-- 0 -->\n",
       "<g id=\"node1\" class=\"node\">\n",
       "<title>0</title>\n",
       "<polygon fill=\"none\" stroke=\"black\" points=\"355.38,-277.5 217.88,-277.5 217.88,-203.5 355.38,-203.5 355.38,-277.5\"/>\n",
       "<text text-anchor=\"middle\" x=\"286.62\" y=\"-260.2\" font-family=\"Helvetica,sans-Serif\" font-size=\"14.00\">seniority &lt;= 2.5</text>\n",
       "<text text-anchor=\"middle\" x=\"286.62\" y=\"-243.7\" font-family=\"Helvetica,sans-Serif\" font-size=\"14.00\">gini = 0.398</text>\n",
       "<text text-anchor=\"middle\" x=\"286.62\" y=\"-227.2\" font-family=\"Helvetica,sans-Serif\" font-size=\"14.00\">samples = 2672</text>\n",
       "<text text-anchor=\"middle\" x=\"286.62\" y=\"-210.7\" font-family=\"Helvetica,sans-Serif\" font-size=\"14.00\">value = [1940, 732]</text>\n",
       "</g>\n",
       "<!-- 1 -->\n",
       "<g id=\"node2\" class=\"node\">\n",
       "<title>1</title>\n",
       "<polygon fill=\"none\" stroke=\"black\" points=\"275.25,-167.5 146,-167.5 146,-93.5 275.25,-93.5 275.25,-167.5\"/>\n",
       "<text text-anchor=\"middle\" x=\"210.62\" y=\"-150.2\" font-family=\"Helvetica,sans-Serif\" font-size=\"14.00\">job=fixed &lt;= 0.5</text>\n",
       "<text text-anchor=\"middle\" x=\"210.62\" y=\"-133.7\" font-family=\"Helvetica,sans-Serif\" font-size=\"14.00\">gini = 0.496</text>\n",
       "<text text-anchor=\"middle\" x=\"210.62\" y=\"-117.2\" font-family=\"Helvetica,sans-Serif\" font-size=\"14.00\">samples = 865</text>\n",
       "<text text-anchor=\"middle\" x=\"210.62\" y=\"-100.7\" font-family=\"Helvetica,sans-Serif\" font-size=\"14.00\">value = [472, 393]</text>\n",
       "</g>\n",
       "<!-- 0&#45;&gt;1 -->\n",
       "<g id=\"edge1\" class=\"edge\">\n",
       "<title>0&#45;&gt;1</title>\n",
       "<path fill=\"none\" stroke=\"black\" d=\"M261.11,-203.24C255.22,-194.87 248.88,-185.86 242.74,-177.14\"/>\n",
       "<polygon fill=\"black\" stroke=\"black\" points=\"245.69,-175.25 237.08,-169.09 239.97,-179.28 245.69,-175.25\"/>\n",
       "<text text-anchor=\"middle\" x=\"231.92\" y=\"-187.43\" font-family=\"Helvetica,sans-Serif\" font-size=\"14.00\">True</text>\n",
       "</g>\n",
       "<!-- 4 -->\n",
       "<g id=\"node5\" class=\"node\">\n",
       "<title>4</title>\n",
       "<polygon fill=\"none\" stroke=\"black\" points=\"433.5,-167.5 293.75,-167.5 293.75,-93.5 433.5,-93.5 433.5,-167.5\"/>\n",
       "<text text-anchor=\"middle\" x=\"363.62\" y=\"-150.2\" font-family=\"Helvetica,sans-Serif\" font-size=\"14.00\">records=yes &lt;= 0.5</text>\n",
       "<text text-anchor=\"middle\" x=\"363.62\" y=\"-133.7\" font-family=\"Helvetica,sans-Serif\" font-size=\"14.00\">gini = 0.305</text>\n",
       "<text text-anchor=\"middle\" x=\"363.62\" y=\"-117.2\" font-family=\"Helvetica,sans-Serif\" font-size=\"14.00\">samples = 1807</text>\n",
       "<text text-anchor=\"middle\" x=\"363.62\" y=\"-100.7\" font-family=\"Helvetica,sans-Serif\" font-size=\"14.00\">value = [1468, 339]</text>\n",
       "</g>\n",
       "<!-- 0&#45;&gt;4 -->\n",
       "<g id=\"edge4\" class=\"edge\">\n",
       "<title>0&#45;&gt;4</title>\n",
       "<path fill=\"none\" stroke=\"black\" d=\"M312.48,-203.24C318.45,-194.87 324.87,-185.86 331.08,-177.14\"/>\n",
       "<polygon fill=\"black\" stroke=\"black\" points=\"333.87,-179.26 336.83,-169.08 328.17,-175.19 333.87,-179.26\"/>\n",
       "<text text-anchor=\"middle\" x=\"341.84\" y=\"-187.46\" font-family=\"Helvetica,sans-Serif\" font-size=\"14.00\">False</text>\n",
       "</g>\n",
       "<!-- 2 -->\n",
       "<g id=\"node3\" class=\"node\">\n",
       "<title>2</title>\n",
       "<polygon fill=\"none\" stroke=\"black\" points=\"129.25,-57.5 0,-57.5 0,0 129.25,0 129.25,-57.5\"/>\n",
       "<text text-anchor=\"middle\" x=\"64.62\" y=\"-40.2\" font-family=\"Helvetica,sans-Serif\" font-size=\"14.00\">gini = 0.49</text>\n",
       "<text text-anchor=\"middle\" x=\"64.62\" y=\"-23.7\" font-family=\"Helvetica,sans-Serif\" font-size=\"14.00\">samples = 453</text>\n",
       "<text text-anchor=\"middle\" x=\"64.62\" y=\"-7.2\" font-family=\"Helvetica,sans-Serif\" font-size=\"14.00\">value = [194, 259]</text>\n",
       "</g>\n",
       "<!-- 1&#45;&gt;2 -->\n",
       "<g id=\"edge2\" class=\"edge\">\n",
       "<title>1&#45;&gt;2</title>\n",
       "<path fill=\"none\" stroke=\"black\" d=\"M157.5,-93.21C143.59,-83.7 128.64,-73.48 114.88,-64.09\"/>\n",
       "<polygon fill=\"black\" stroke=\"black\" points=\"117.06,-61.33 106.82,-58.58 113.11,-67.11 117.06,-61.33\"/>\n",
       "</g>\n",
       "<!-- 3 -->\n",
       "<g id=\"node4\" class=\"node\">\n",
       "<title>3</title>\n",
       "<polygon fill=\"none\" stroke=\"black\" points=\"276.25,-57.5 147,-57.5 147,0 276.25,0 276.25,-57.5\"/>\n",
       "<text text-anchor=\"middle\" x=\"211.62\" y=\"-40.2\" font-family=\"Helvetica,sans-Serif\" font-size=\"14.00\">gini = 0.439</text>\n",
       "<text text-anchor=\"middle\" x=\"211.62\" y=\"-23.7\" font-family=\"Helvetica,sans-Serif\" font-size=\"14.00\">samples = 412</text>\n",
       "<text text-anchor=\"middle\" x=\"211.62\" y=\"-7.2\" font-family=\"Helvetica,sans-Serif\" font-size=\"14.00\">value = [278, 134]</text>\n",
       "</g>\n",
       "<!-- 1&#45;&gt;3 -->\n",
       "<g id=\"edge3\" class=\"edge\">\n",
       "<title>1&#45;&gt;3</title>\n",
       "<path fill=\"none\" stroke=\"black\" d=\"M210.99,-93.21C211.07,-85.35 211.15,-77 211.23,-69.03\"/>\n",
       "<polygon fill=\"black\" stroke=\"black\" points=\"214.73,-69.28 211.33,-59.24 207.73,-69.21 214.73,-69.28\"/>\n",
       "</g>\n",
       "<!-- 5 -->\n",
       "<g id=\"node6\" class=\"node\">\n",
       "<title>5</title>\n",
       "<polygon fill=\"none\" stroke=\"black\" points=\"432.38,-57.5 294.88,-57.5 294.88,0 432.38,0 432.38,-57.5\"/>\n",
       "<text text-anchor=\"middle\" x=\"363.62\" y=\"-40.2\" font-family=\"Helvetica,sans-Serif\" font-size=\"14.00\">gini = 0.238</text>\n",
       "<text text-anchor=\"middle\" x=\"363.62\" y=\"-23.7\" font-family=\"Helvetica,sans-Serif\" font-size=\"14.00\">samples = 1503</text>\n",
       "<text text-anchor=\"middle\" x=\"363.62\" y=\"-7.2\" font-family=\"Helvetica,sans-Serif\" font-size=\"14.00\">value = [1296, 207]</text>\n",
       "</g>\n",
       "<!-- 4&#45;&gt;5 -->\n",
       "<g id=\"edge5\" class=\"edge\">\n",
       "<title>4&#45;&gt;5</title>\n",
       "<path fill=\"none\" stroke=\"black\" d=\"M363.62,-93.21C363.62,-85.35 363.62,-77 363.62,-69.03\"/>\n",
       "<polygon fill=\"black\" stroke=\"black\" points=\"367.13,-69.24 363.63,-59.24 360.13,-69.24 367.13,-69.24\"/>\n",
       "</g>\n",
       "<!-- 6 -->\n",
       "<g id=\"node7\" class=\"node\">\n",
       "<title>6</title>\n",
       "<polygon fill=\"none\" stroke=\"black\" points=\"579.25,-57.5 450,-57.5 450,0 579.25,0 579.25,-57.5\"/>\n",
       "<text text-anchor=\"middle\" x=\"514.62\" y=\"-40.2\" font-family=\"Helvetica,sans-Serif\" font-size=\"14.00\">gini = 0.491</text>\n",
       "<text text-anchor=\"middle\" x=\"514.62\" y=\"-23.7\" font-family=\"Helvetica,sans-Serif\" font-size=\"14.00\">samples = 304</text>\n",
       "<text text-anchor=\"middle\" x=\"514.62\" y=\"-7.2\" font-family=\"Helvetica,sans-Serif\" font-size=\"14.00\">value = [172, 132]</text>\n",
       "</g>\n",
       "<!-- 4&#45;&gt;6 -->\n",
       "<g id=\"edge6\" class=\"edge\">\n",
       "<title>4&#45;&gt;6</title>\n",
       "<path fill=\"none\" stroke=\"black\" d=\"M418.57,-93.21C433.09,-83.61 448.72,-73.29 463.06,-63.81\"/>\n",
       "<polygon fill=\"black\" stroke=\"black\" points=\"464.6,-66.99 471.01,-58.56 460.74,-61.15 464.6,-66.99\"/>\n",
       "</g>\n",
       "</g>\n",
       "</svg>\n"
      ],
      "text/plain": [
       "<graphviz.sources.Source at 0x1e6be7caef0>"
      ]
     },
     "execution_count": 127,
     "metadata": {},
     "output_type": "execute_result"
    }
   ],
   "source": [
    "graph = export_graphviz(dt,feature_names=dv.feature_names_)\n",
    "graph = graphviz.Source(graph, format=\"png\") \n",
    "graph"
   ]
  },
  {
   "cell_type": "markdown",
   "id": "38d5ea5c-f14d-4606-8ca4-d5baf090aaf0",
   "metadata": {},
   "source": [
    "#### Проверим метрику"
   ]
  },
  {
   "cell_type": "code",
   "execution_count": 128,
   "id": "c95e5c93-0fde-4104-a37d-abdf8a532695",
   "metadata": {},
   "outputs": [
    {
     "data": {
      "text/plain": [
       "0.7202995605881359"
      ]
     },
     "execution_count": 128,
     "metadata": {},
     "output_type": "execute_result"
    }
   ],
   "source": [
    "y_pred = dt.predict_proba(X_train)[:, 1]\n",
    "roc_auc_score(y_train, y_pred)"
   ]
  },
  {
   "cell_type": "code",
   "execution_count": 129,
   "id": "ea521d24-9f98-4fee-8b64-20a9dbb33231",
   "metadata": {},
   "outputs": [
    {
     "data": {
      "text/plain": [
       "0.7105628033024516"
      ]
     },
     "execution_count": 129,
     "metadata": {},
     "output_type": "execute_result"
    }
   ],
   "source": [
    "y_pred = dt.predict_proba(X_val)[:, 1]\n",
    "roc_auc_score(y_val, y_pred)"
   ]
  },
  {
   "cell_type": "markdown",
   "id": "e42883cf-805e-4229-ba2c-3cd3249073fb",
   "metadata": {},
   "source": [
    "#### Пробуем перебором найти оптимальную глубину дерева"
   ]
  },
  {
   "cell_type": "code",
   "execution_count": 130,
   "id": "bbe8f909-566c-490a-b90d-b49853a09923",
   "metadata": {},
   "outputs": [
    {
     "name": "stdout",
     "output_type": "stream",
     "text": [
      "1 -> 0.646\n",
      "2 -> 0.711\n",
      "3 -> 0.773\n",
      "4 -> 0.788\n",
      "5 -> 0.787\n",
      "6 -> 0.788\n",
      "10 -> 0.686\n",
      "15 -> 0.670\n",
      "20 -> 0.667\n",
      "None -> 0.678\n"
     ]
    }
   ],
   "source": [
    "for depth in [1, 2, 3, 4, 5, 6, 10, 15, 20, None]:\n",
    "    dt = DecisionTreeClassifier(max_depth=depth)\n",
    "\n",
    "    dt.fit(X_train, y_train)\n",
    "    y_pred = dt.predict_proba(X_val)[:, 1]\n",
    "    auc = roc_auc_score(y_val, y_pred)\n",
    "    print('%s -> %.3f' % (depth, auc))"
   ]
  },
  {
   "cell_type": "markdown",
   "id": "7b4e4f15-3655-4be4-ac66-051908dcc263",
   "metadata": {},
   "source": [
    "#### Пробуем перебором найти оптимальное количество листьев"
   ]
  },
  {
   "cell_type": "code",
   "execution_count": 131,
   "id": "ebf08230-7f52-4677-aead-bfbe87aeb481",
   "metadata": {},
   "outputs": [
    {
     "name": "stdout",
     "output_type": "stream",
     "text": [
      "depth: 4\n",
      "1 -> 0.790\n",
      "5 -> 0.788\n",
      "10 -> 0.790\n",
      "15 -> 0.789\n",
      "20 -> 0.794\n",
      "50 -> 0.798\n",
      "100 -> 0.768\n",
      "200 -> 0.751\n",
      "depth: 5\n",
      "1 -> 0.787\n",
      "5 -> 0.787\n",
      "10 -> 0.795\n",
      "15 -> 0.789\n",
      "20 -> 0.800\n",
      "50 -> 0.814\n",
      "100 -> 0.774\n",
      "200 -> 0.754\n",
      "depth: 6\n",
      "1 -> 0.795\n",
      "5 -> 0.810\n",
      "10 -> 0.817\n",
      "15 -> 0.815\n",
      "20 -> 0.821\n",
      "50 -> 0.823\n",
      "100 -> 0.775\n",
      "200 -> 0.756\n"
     ]
    }
   ],
   "source": [
    "for m in [4, 5, 6]:\n",
    "    print('depth: %s' %m)\n",
    "\n",
    "    for s in [1, 5, 10, 15, 20, 50, 100, 200]:\n",
    "        dt = DecisionTreeClassifier(max_depth=m, min_samples_leaf=s)\n",
    "        dt.fit(X_train, y_train)\n",
    "        y_pred = dt.predict_proba(X_val)[:, 1]\n",
    "        auc = roc_auc_score(y_val, y_pred)\n",
    "        print('%s -> %.3f' % (s, auc))"
   ]
  },
  {
   "cell_type": "markdown",
   "id": "ebca22cb-7b50-4625-ada3-1947bc68f472",
   "metadata": {},
   "source": [
    "#### Мы обнаружили наши наилучшие параметры (min_sample_leaf=50 и max_depth=6 ), поэтому используем их для обучения окончательной модели дерева решений:"
   ]
  },
  {
   "cell_type": "code",
   "execution_count": 132,
   "id": "c8ef0b98-5c20-4c92-afc8-6c2a5290b6c3",
   "metadata": {},
   "outputs": [
    {
     "data": {
      "text/plain": [
       "0.8233850129198965"
      ]
     },
     "execution_count": 132,
     "metadata": {},
     "output_type": "execute_result"
    }
   ],
   "source": [
    "dt = DecisionTreeClassifier(max_depth=6, min_samples_leaf=50)\n",
    "dt.fit(X_train, y_train)\n",
    "\n",
    "y_pred_dt = dt.predict_proba(X_val)[:, 1]\n",
    "roc_auc_score(y_val, y_pred_dt)"
   ]
  },
  {
   "cell_type": "markdown",
   "id": "e74fb0a1-52f6-4bda-813d-6187547d96f3",
   "metadata": {},
   "source": [
    "# 4. Обучение случайного леса"
   ]
  },
  {
   "cell_type": "code",
   "execution_count": 133,
   "id": "2a14292d-a55a-454c-b64c-ada912e7919e",
   "metadata": {},
   "outputs": [
    {
     "data": {
      "text/plain": [
       "0.8036711413625763"
      ]
     },
     "execution_count": 133,
     "metadata": {},
     "output_type": "execute_result"
    }
   ],
   "source": [
    "rf = RandomForestClassifier(n_estimators=10, random_state=23)\n",
    "rf.fit(X_train, y_train)\n",
    "\n",
    "y_pred = rf.predict_proba(X_val)[:, 1]\n",
    "roc_auc_score(y_val, y_pred)"
   ]
  },
  {
   "cell_type": "markdown",
   "id": "9908c8b2-7c2e-44f4-ab97-1243d1433dea",
   "metadata": {},
   "source": [
    "#### Чтобы понять, сколько деревьев нам требуется, мы можем перебрать различные значения для n_estimators и оценить его влияние на AUC:\n"
   ]
  },
  {
   "cell_type": "code",
   "execution_count": 134,
   "id": "e6945981-7d3b-40c0-93bd-96e864caf5dc",
   "metadata": {},
   "outputs": [
    {
     "name": "stdout",
     "output_type": "stream",
     "text": [
      "10 -> 0.80367\n",
      "20 -> 0.82387\n",
      "30 -> 0.83322\n",
      "40 -> 0.83414\n",
      "50 -> 0.83414\n",
      "60 -> 0.83688\n",
      "70 -> 0.83705\n",
      "80 -> 0.84077\n",
      "90 -> 0.84015\n",
      "100 -> 0.83991\n",
      "110 -> 0.84085\n",
      "120 -> 0.84234\n",
      "130 -> 0.84213\n",
      "140 -> 0.84153\n",
      "150 -> 0.84158\n",
      "160 -> 0.84140\n",
      "170 -> 0.84057\n",
      "180 -> 0.84118\n",
      "190 -> 0.84121\n",
      "200 -> 0.84135\n"
     ]
    },
    {
     "data": {
      "text/plain": [
       "[<matplotlib.lines.Line2D at 0x1e6bfa81f90>]"
      ]
     },
     "execution_count": 134,
     "metadata": {},
     "output_type": "execute_result"
    },
    {
     "data": {
      "image/png": "[encoded data removed]",
      "text/plain": [
       "<Figure size 640x480 with 1 Axes>"
      ]
     },
     "metadata": {},
     "output_type": "display_data"
    }
   ],
   "source": [
    "aucs = []\n",
    "\n",
    "for i in range(10, 201, 10):\n",
    "    rf = RandomForestClassifier(n_estimators=i, random_state=23)\n",
    "    rf.fit(X_train, y_train)\n",
    "    \n",
    "    y_pred = rf.predict_proba(X_val)[:, 1]\n",
    "    auc = roc_auc_score(y_val, y_pred)\n",
    "    print('%s -> %.5f' % (i, auc))\n",
    "\n",
    "    aucs.append(auc)\n",
    "\n",
    "plt.plot(range(10, 201, 10), aucs)"
   ]
  },
  {
   "cell_type": "markdown",
   "id": "8417f83e-d01f-40ca-955b-3158975e6ba5",
   "metadata": {},
   "source": [
    "#### Пробуем перебором найти оптимальную глубину для RF"
   ]
  },
  {
   "cell_type": "code",
   "execution_count": 135,
   "id": "d3d3fe4b-8f2c-4e97-a969-7ce9bf74b666",
   "metadata": {},
   "outputs": [
    {
     "name": "stdout",
     "output_type": "stream",
     "text": [
      "depth: 5\n",
      "10 -> 0.820\n",
      "20 -> 0.834\n",
      "30 -> 0.839\n",
      "40 -> 0.840\n",
      "50 -> 0.839\n",
      "60 -> 0.841\n",
      "70 -> 0.840\n",
      "80 -> 0.841\n",
      "90 -> 0.841\n",
      "100 -> 0.841\n",
      "110 -> 0.842\n",
      "120 -> 0.842\n",
      "130 -> 0.842\n",
      "140 -> 0.841\n",
      "150 -> 0.841\n",
      "160 -> 0.841\n",
      "170 -> 0.841\n",
      "180 -> 0.841\n",
      "190 -> 0.841\n",
      "200 -> 0.841\n",
      "\n",
      "depth: 10\n",
      "10 -> 0.815\n",
      "20 -> 0.834\n",
      "30 -> 0.839\n",
      "40 -> 0.840\n",
      "50 -> 0.839\n",
      "60 -> 0.841\n",
      "70 -> 0.842\n",
      "80 -> 0.844\n",
      "90 -> 0.843\n",
      "100 -> 0.845\n",
      "110 -> 0.846\n",
      "120 -> 0.847\n",
      "130 -> 0.847\n",
      "140 -> 0.847\n",
      "150 -> 0.848\n",
      "160 -> 0.848\n",
      "170 -> 0.849\n",
      "180 -> 0.849\n",
      "190 -> 0.848\n",
      "200 -> 0.848\n",
      "\n",
      "depth: 20\n",
      "10 -> 0.809\n",
      "20 -> 0.828\n",
      "30 -> 0.836\n",
      "40 -> 0.838\n",
      "50 -> 0.837\n",
      "60 -> 0.842\n",
      "70 -> 0.840\n",
      "80 -> 0.844\n",
      "90 -> 0.845\n",
      "100 -> 0.843\n",
      "110 -> 0.842\n",
      "120 -> 0.842\n",
      "130 -> 0.843\n",
      "140 -> 0.842\n",
      "150 -> 0.842\n",
      "160 -> 0.841\n",
      "170 -> 0.841\n",
      "180 -> 0.843\n",
      "190 -> 0.842\n",
      "200 -> 0.843\n",
      "\n"
     ]
    },
    {
     "data": {
      "text/plain": [
       "<matplotlib.legend.Legend at 0x1e6bb234790>"
      ]
     },
     "execution_count": 135,
     "metadata": {},
     "output_type": "execute_result"
    },
    {
     "data": {
      "image/png": "[encoded data removed]",
      "text/plain": [
       "<Figure size 640x480 with 1 Axes>"
      ]
     },
     "metadata": {},
     "output_type": "display_data"
    }
   ],
   "source": [
    "all_aucs = {}\n",
    "\n",
    "for depth in [5, 10, 20]:\n",
    "    \n",
    "    print('depth: %s' % depth)\n",
    "    aucs = []\n",
    "    \n",
    "    for i in range(10, 201, 10):\n",
    "        rf = RandomForestClassifier(n_estimators=i, max_depth=depth, random_state=23)\n",
    "        rf.fit(X_train, y_train)\n",
    "        \n",
    "        y_pred = rf.predict_proba(X_val)[:, 1]\n",
    "        auc = roc_auc_score(y_val, y_pred)\n",
    "        print('%s -> %.3f' % (i, auc))\n",
    "        aucs.append(auc)\n",
    "\n",
    "    all_aucs[depth] = aucs\n",
    "    print()\n",
    "    \n",
    "num_trees = list(range(10, 201, 10))\n",
    "plt.plot(num_trees, all_aucs[5], label='depth=5')\n",
    "plt.plot(num_trees, all_aucs[10], label='depth=10')\n",
    "plt.plot(num_trees, all_aucs[20], label='depth=20')\n",
    "plt.legend()"
   ]
  },
  {
   "cell_type": "markdown",
   "id": "87df1e3c-b9f1-47e0-9028-06f94d329f27",
   "metadata": {},
   "source": [
    "#### Пробуем перебором найти оптимальное количество листьев для RF"
   ]
  },
  {
   "cell_type": "code",
   "execution_count": 136,
   "id": "cc406e70-6f53-4d4f-a310-778ff0631705",
   "metadata": {},
   "outputs": [
    {
     "name": "stdout",
     "output_type": "stream",
     "text": [
      "min_samples_leaf: 3\n",
      "10 -> 0.833\n",
      "20 -> 0.843\n",
      "30 -> 0.842\n",
      "40 -> 0.847\n",
      "50 -> 0.849\n",
      "60 -> 0.849\n",
      "70 -> 0.849\n",
      "80 -> 0.849\n",
      "90 -> 0.849\n",
      "100 -> 0.849\n",
      "110 -> 0.849\n",
      "120 -> 0.849\n",
      "130 -> 0.849\n",
      "140 -> 0.849\n",
      "150 -> 0.849\n",
      "160 -> 0.849\n",
      "170 -> 0.850\n",
      "180 -> 0.850\n",
      "190 -> 0.850\n",
      "200 -> 0.850\n",
      "\n",
      "min_samples_leaf: 5\n",
      "10 -> 0.833\n",
      "20 -> 0.839\n",
      "30 -> 0.844\n",
      "40 -> 0.846\n",
      "50 -> 0.848\n",
      "60 -> 0.847\n",
      "70 -> 0.849\n",
      "80 -> 0.850\n",
      "90 -> 0.849\n",
      "100 -> 0.849\n",
      "110 -> 0.849\n",
      "120 -> 0.849\n",
      "130 -> 0.850\n",
      "140 -> 0.849\n",
      "150 -> 0.850\n",
      "160 -> 0.850\n",
      "170 -> 0.849\n",
      "180 -> 0.850\n",
      "190 -> 0.850\n",
      "200 -> 0.850\n",
      "\n",
      "min_samples_leaf: 10\n",
      "10 -> 0.841\n",
      "20 -> 0.851\n",
      "30 -> 0.851\n",
      "40 -> 0.852\n",
      "50 -> 0.852\n",
      "60 -> 0.852\n",
      "70 -> 0.852\n",
      "80 -> 0.852\n",
      "90 -> 0.852\n",
      "100 -> 0.852\n",
      "110 -> 0.852\n",
      "120 -> 0.852\n",
      "130 -> 0.853\n",
      "140 -> 0.853\n",
      "150 -> 0.853\n",
      "160 -> 0.853\n",
      "170 -> 0.853\n",
      "180 -> 0.853\n",
      "190 -> 0.853\n",
      "200 -> 0.853\n",
      "\n"
     ]
    },
    {
     "data": {
      "text/plain": [
       "<matplotlib.legend.Legend at 0x1e6bfa82380>"
      ]
     },
     "execution_count": 136,
     "metadata": {},
     "output_type": "execute_result"
    },
    {
     "data": {
      "image/png": "[encoded data removed]",
      "text/plain": [
       "<Figure size 640x480 with 1 Axes>"
      ]
     },
     "metadata": {},
     "output_type": "display_data"
    }
   ],
   "source": [
    "all_aucs = {}\n",
    "\n",
    "for m in [3, 5, 10]:\n",
    "    \n",
    "    print('min_samples_leaf: %s' % m)\n",
    "    aucs = []\n",
    "    \n",
    "    for i in range(10, 201, 10):\n",
    "        rf = RandomForestClassifier(n_estimators=i, max_depth=10, \\\n",
    "                                    min_samples_leaf=m, random_state=23)\n",
    "        rf.fit(X_train, y_train)\n",
    "        \n",
    "        y_pred = rf.predict_proba(X_val)[:, 1]\n",
    "        auc = roc_auc_score(y_val, y_pred)\n",
    "        print('%s -> %.3f' % (i, auc))\n",
    "        aucs.append(auc)\n",
    "\n",
    "    all_aucs[m] = aucs\n",
    "    print()\n",
    "    \n",
    "num_trees = list(range(10, 201, 10))\n",
    "plt.plot(num_trees, all_aucs[3], label='min_samples_leaf=3')\n",
    "plt.plot(num_trees, all_aucs[5], label='min_samples_leaf=5')\n",
    "plt.plot(num_trees, all_aucs[10], label='min_samples_leaf=10')\n",
    "plt.legend()"
   ]
  },
  {
   "cell_type": "markdown",
   "id": "156fbc18-a206-4aad-8a81-efaa7786264d",
   "metadata": {},
   "source": [
    "#### Мы достигли наилучшего AUC с 135 деревьями, поэтому следует установить параметр n_estimators = 135."
   ]
  },
  {
   "cell_type": "markdown",
   "id": "40a84a6c-6800-4487-8f71-2ddb23d76824",
   "metadata": {},
   "source": [
    "- количество деревьев n_estimators = 135\n",
    "- глубина деревьев max_depth = 10\n",
    "- число образцов в группе min_samples_leaf = 10"
   ]
  },
  {
   "cell_type": "markdown",
   "id": "e913f994-846b-4e11-8816-507df84bd047",
   "metadata": {},
   "source": [
    "#### Обучим итоговую модель"
   ]
  },
  {
   "cell_type": "code",
   "execution_count": 137,
   "id": "472eddd6-a96a-446f-990c-e15a3e25a025",
   "metadata": {},
   "outputs": [
    {
     "name": "stdout",
     "output_type": "stream",
     "text": [
      "0.853\n"
     ]
    }
   ],
   "source": [
    "rf = RandomForestClassifier(n_estimators=135, max_depth=10, min_samples_leaf=10, random_state=23)\n",
    "rf.fit(X_train, y_train)\n",
    "\n",
    "y_pred_rf = rf.predict_proba(X_val)[:, 1]\n",
    "auc = roc_auc_score(y_val, y_pred_rf)\n",
    "print('%.3f' % auc)"
   ]
  },
  {
   "cell_type": "markdown",
   "id": "1bec74b8-1ab6-4027-999f-bbb50a5fd44d",
   "metadata": {},
   "source": [
    "# 5. Градиентный бустинг"
   ]
  },
  {
   "cell_type": "markdown",
   "id": "6ca434a1-6d95-43ef-ac76-05ae3a7ea64b",
   "metadata": {},
   "source": [
    "#### Прежде чем мы сможем обучить модель XGBoost, нам нужно обернуть наши данные в DMatrix — специальную структуру данных для эффективного поиска разбиений:"
   ]
  },
  {
   "cell_type": "code",
   "execution_count": 138,
   "id": "2d4bceba-d7a8-4d97-9cd4-407f647fe797",
   "metadata": {},
   "outputs": [],
   "source": [
    "dtrain = xgb.DMatrix(X_train, label=y_train, feature_names=dv.feature_names_)\n",
    "dval = xgb.DMatrix(X_val, label=y_val, feature_names=dv.feature_names_)\n",
    "dtest = xgb.DMatrix(X_test, label=y_test, feature_names=dv.feature_names_)"
   ]
  },
  {
   "cell_type": "markdown",
   "id": "8a9ce168-36ea-4677-b2bf-f40e601962f5",
   "metadata": {},
   "source": [
    "#### Укажем параметры"
   ]
  },
  {
   "cell_type": "code",
   "execution_count": 162,
   "id": "3f546ffe-4b84-417f-bded-3d86e7218c0b",
   "metadata": {},
   "outputs": [],
   "source": [
    "xgb_params = {\n",
    "    'eta': 0.3,\n",
    "    'max_depth': 6,\n",
    "    'min_child_weight': 1,\n",
    "\n",
    "    'objective': 'binary:logistic',\n",
    "    'eval_metric': 'auc',\n",
    "    'nthread': 4,\n",
    "    'seed': 23\n",
    "}"
   ]
  },
  {
   "cell_type": "code",
   "execution_count": 163,
   "id": "27496542-7cec-45fb-aa21-6e143556065b",
   "metadata": {},
   "outputs": [],
   "source": [
    "model = xgb.train(xgb_params, dtrain, num_boost_round=10)"
   ]
  },
  {
   "cell_type": "code",
   "execution_count": 164,
   "id": "718cafaf-43da-43a0-9182-0822978269cf",
   "metadata": {},
   "outputs": [
    {
     "data": {
      "text/plain": [
       "array([0.12300754, 0.3273528 , 0.04703829, 0.33858016, 0.10216632,\n",
       "       0.04355047, 0.42210156, 0.465147  , 0.11104547, 0.88539034],\n",
       "      dtype=float32)"
      ]
     },
     "execution_count": 164,
     "metadata": {},
     "output_type": "execute_result"
    }
   ],
   "source": [
    "y_pred = model.predict(dval)\n",
    "y_pred[:10]"
   ]
  },
  {
   "cell_type": "code",
   "execution_count": 165,
   "id": "afa69012-7b4c-4cb3-850e-b36bcfaaf64f",
   "metadata": {},
   "outputs": [
    {
     "data": {
      "text/plain": [
       "0.8456797126110795"
      ]
     },
     "execution_count": 165,
     "metadata": {},
     "output_type": "execute_result"
    }
   ],
   "source": [
    "roc_auc_score(y_val, y_pred)"
   ]
  },
  {
   "cell_type": "markdown",
   "id": "4981f596-5c24-405a-bfa6-f8e3c08b8b9b",
   "metadata": {},
   "source": [
    "#### Мониторинг производительности модели"
   ]
  },
  {
   "cell_type": "code",
   "execution_count": 166,
   "id": "9a9f3f18-d628-4503-b325-906dd3f23a8b",
   "metadata": {},
   "outputs": [],
   "source": [
    "watchlist = [(dtrain, 'train'), (dval, 'val')]"
   ]
  },
  {
   "cell_type": "code",
   "execution_count": 167,
   "id": "6afb128c-13ac-4777-a5e0-e03777a12507",
   "metadata": {},
   "outputs": [
    {
     "name": "stdout",
     "output_type": "stream",
     "text": [
      "[0]\ttrain-auc:0.84831\tval-auc:0.81043\n",
      "[10]\ttrain-auc:0.94779\tval-auc:0.84431\n",
      "[20]\ttrain-auc:0.97325\tval-auc:0.84441\n",
      "[30]\ttrain-auc:0.98531\tval-auc:0.84347\n",
      "[40]\ttrain-auc:0.99163\tval-auc:0.83798\n",
      "[50]\ttrain-auc:0.99555\tval-auc:0.83744\n",
      "[60]\ttrain-auc:0.99771\tval-auc:0.83733\n",
      "[70]\ttrain-auc:0.99918\tval-auc:0.83595\n",
      "[80]\ttrain-auc:0.99951\tval-auc:0.83390\n",
      "[90]\ttrain-auc:0.99985\tval-auc:0.83297\n",
      "[99]\ttrain-auc:0.99996\tval-auc:0.83163\n"
     ]
    }
   ],
   "source": [
    "model = xgb.train(xgb_params, dtrain, num_boost_round=100, \\\n",
    "                 evals=watchlist, verbose_eval=10)"
   ]
  },
  {
   "cell_type": "code",
   "execution_count": 168,
   "id": "9c6f3f02-28ee-428e-90c6-f24ee06a0447",
   "metadata": {},
   "outputs": [],
   "source": [
    "%%capture output\n",
    "model = xgb.train(xgb_params, dtrain, num_boost_round=100, \\\n",
    "                 evals=watchlist, verbose_eval=10)\n"
   ]
  },
  {
   "cell_type": "code",
   "execution_count": 169,
   "id": "61e71ca9-2e42-4db2-b3be-de907ac253ce",
   "metadata": {},
   "outputs": [],
   "source": [
    "def parse_xgb_output(output):\n",
    "    tree = []\n",
    "    aucs_train = []\n",
    "    aucs_val = []\n",
    "\n",
    "    for line in output.stdout.strip().split('\\n'):\n",
    "        it_line, train_line, val_line = line.split('\\t')\n",
    "\n",
    "        it = int(it_line.strip('[]'))\n",
    "        train = float(train_line.split(':')[1])\n",
    "        val = float(val_line.split(':')[1])\n",
    "\n",
    "        tree.append(it)\n",
    "        aucs_train.append(train)\n",
    "        aucs_val.append(val)\n",
    "\n",
    "    return tree, aucs_train, aucs_val"
   ]
  },
  {
   "cell_type": "code",
   "execution_count": 170,
   "id": "1c8d976e-cf17-43e9-a51e-fa488d014995",
   "metadata": {},
   "outputs": [],
   "source": [
    "tree, aucs_train, aucs_val = parse_xgb_output(output)"
   ]
  },
  {
   "cell_type": "code",
   "execution_count": 171,
   "id": "74941e5e-2a07-4876-adde-276a7ddd0ec2",
   "metadata": {},
   "outputs": [
    {
     "data": {
      "image/png": "[encoded data removed]",
      "text/plain": [
       "<Figure size 600x400 with 1 Axes>"
      ]
     },
     "metadata": {},
     "output_type": "display_data"
    }
   ],
   "source": [
    "plt.figure(figsize=(6, 4))\n",
    "plt.plot(tree, aucs_train, color='black', linestyle='dashed', label='Train AUC')\n",
    "plt.plot(tree, aucs_val, color='black', linestyle='solid', label='Validation AUC')\n",
    "plt.xticks(range(0, 101, 25))\n",
    "\n",
    "plt.legend()\n",
    "\n",
    "plt.title('XGBoost: number of trees vs AUC')\n",
    "plt.xlabel('Number of trees')\n",
    "plt.ylabel('AUC')\n",
    "\n",
    "plt.show()"
   ]
  },
  {
   "cell_type": "markdown",
   "id": "5ff78c55-eaf8-48b3-b5de-5a6fbd758aff",
   "metadata": {},
   "source": [
    "#### Настройка параметров XGBoost eta=0.3"
   ]
  },
  {
   "cell_type": "code",
   "execution_count": 172,
   "id": "9bc3fdd1-0cf5-49c3-9f8e-eae5f84a8242",
   "metadata": {},
   "outputs": [],
   "source": [
    "xgb_params = {\n",
    "    'eta': 0.3,\n",
    "    'max_depth': 6,\n",
    "    'min_child_weight': 1,\n",
    "\n",
    "    'objective': 'binary:logistic',\n",
    "    'eval_metric': 'auc',\n",
    "    'nthread': 4,\n",
    "    'seed': 23\n",
    "}"
   ]
  },
  {
   "cell_type": "code",
   "execution_count": 173,
   "id": "c6a7f216-152f-464f-b812-9cecdaa01770",
   "metadata": {},
   "outputs": [],
   "source": [
    "%%capture output\n",
    "model = xgb.train(xgb_params, dtrain, num_boost_round=500, \\\n",
    "                 evals=watchlist, verbose_eval=10)\n"
   ]
  },
  {
   "cell_type": "code",
   "execution_count": 174,
   "id": "f02ba66b-1f6d-42b1-9331-fa019c221b07",
   "metadata": {},
   "outputs": [
    {
     "name": "stdout",
     "output_type": "stream",
     "text": [
      "0.84441\n",
      "(0.84441, 20)\n"
     ]
    }
   ],
   "source": [
    "tree, _, aucs_val_eta_03 = parse_xgb_output(output)\n",
    "print(max(aucs_val_eta_03))\n",
    "print(max(zip(aucs_val_eta_03, tree)))"
   ]
  },
  {
   "cell_type": "markdown",
   "id": "4fa2792d-0156-4dd7-be2c-02174e752f8c",
   "metadata": {},
   "source": [
    "#### Настройка параметров XGBoost eta=0.1"
   ]
  },
  {
   "cell_type": "code",
   "execution_count": 175,
   "id": "a6ff2f48-a146-474b-92b4-dbe50b2043ff",
   "metadata": {},
   "outputs": [],
   "source": [
    "xgb_params = {\n",
    "    'eta': 0.1,\n",
    "    'max_depth': 6,\n",
    "    'min_child_weight': 1,\n",
    "\n",
    "    'objective': 'binary:logistic',\n",
    "    'eval_metric': 'auc',\n",
    "    'nthread': 4,\n",
    "    'seed': 23\n",
    "}\n"
   ]
  },
  {
   "cell_type": "code",
   "execution_count": 176,
   "id": "05f131a8-084f-4c39-9fa0-bfd5a9a1b672",
   "metadata": {},
   "outputs": [],
   "source": [
    "%%capture output\n",
    "model = xgb.train(xgb_params, dtrain, num_boost_round=500, \\\n",
    "                 evals=watchlist, verbose_eval=10)"
   ]
  },
  {
   "cell_type": "code",
   "execution_count": 177,
   "id": "98ddf3ba-67d7-4857-a85f-294341a3f24b",
   "metadata": {},
   "outputs": [
    {
     "name": "stdout",
     "output_type": "stream",
     "text": [
      "0.84968\n",
      "(0.84968, 40)\n"
     ]
    }
   ],
   "source": [
    "tree, _, aucs_val_eta_01 = parse_xgb_output(output)\n",
    "print(max(aucs_val_eta_01))\n",
    "print(max(zip(aucs_val_eta_01, tree)))"
   ]
  },
  {
   "cell_type": "markdown",
   "id": "1fcbcd86-1f94-4d93-ba47-1204d182c621",
   "metadata": {},
   "source": [
    "#### Настройка параметров XGBoost eta=0.05"
   ]
  },
  {
   "cell_type": "code",
   "execution_count": 178,
   "id": "c8d63858-a1a4-4aa8-ba3c-9c1e278b4322",
   "metadata": {},
   "outputs": [],
   "source": [
    "xgb_params = {\n",
    "    'eta': 0.05,\n",
    "    'max_depth': 6,\n",
    "    'min_child_weight': 1,\n",
    "\n",
    "    'objective': 'binary:logistic',\n",
    "    'eval_metric': 'auc',\n",
    "    'nthread': 4,\n",
    "    'seed': 23\n",
    "}\n"
   ]
  },
  {
   "cell_type": "code",
   "execution_count": 179,
   "id": "4424fe8d-822e-4e1b-9310-b9150d90b848",
   "metadata": {},
   "outputs": [],
   "source": [
    "%%capture output\n",
    "model = xgb.train(xgb_params, dtrain, num_boost_round=500, \\\n",
    "                 evals=watchlist, verbose_eval=10)"
   ]
  },
  {
   "cell_type": "code",
   "execution_count": 180,
   "id": "9a2e96e3-d8be-4619-b966-ceb1e8119535",
   "metadata": {},
   "outputs": [
    {
     "name": "stdout",
     "output_type": "stream",
     "text": [
      "0.85576\n",
      "(0.85576, 80)\n"
     ]
    }
   ],
   "source": [
    "tree, _, aucs_val_eta_005 = parse_xgb_output(output)\n",
    "print(max(aucs_val_eta_005))\n",
    "print(max(zip(aucs_val_eta_005, tree)))"
   ]
  },
  {
   "cell_type": "markdown",
   "id": "53a39bb1-1cf9-4ae6-8ff8-d2b653391713",
   "metadata": {},
   "source": [
    "#### Настройка параметров XGBoost eta=0.01"
   ]
  },
  {
   "cell_type": "code",
   "execution_count": 181,
   "id": "e881f2c4-aaa5-476a-bf7b-c196f5af6484",
   "metadata": {},
   "outputs": [],
   "source": [
    "xgb_params = {\n",
    "    'eta': 0.01,\n",
    "    'max_depth': 6,\n",
    "    'min_child_weight': 1,\n",
    "\n",
    "    'objective': 'binary:logistic',\n",
    "    'eval_metric': 'auc',\n",
    "    'nthread': 4,\n",
    "    'seed': 23\n",
    "}\n"
   ]
  },
  {
   "cell_type": "code",
   "execution_count": 182,
   "id": "5466d2a8-c261-42db-9bb3-3790ad042b80",
   "metadata": {},
   "outputs": [],
   "source": [
    "%%capture output\n",
    "model = xgb.train(xgb_params, dtrain, num_boost_round=500, \\\n",
    "                 evals=watchlist, verbose_eval=10)"
   ]
  },
  {
   "cell_type": "code",
   "execution_count": 183,
   "id": "c906a8e6-d962-4c72-8dfc-ab305cbe06fe",
   "metadata": {},
   "outputs": [
    {
     "name": "stdout",
     "output_type": "stream",
     "text": [
      "0.85344\n",
      "(0.85344, 390)\n"
     ]
    }
   ],
   "source": [
    "tree, _, aucs_val_eta_001 = parse_xgb_output(output)\n",
    "print(max(aucs_val_eta_001))\n",
    "print(max(zip(aucs_val_eta_001, tree)))"
   ]
  },
  {
   "cell_type": "code",
   "execution_count": 184,
   "id": "87161838-3853-4feb-8585-eb732b2fb6cf",
   "metadata": {},
   "outputs": [
    {
     "data": {
      "image/png": "[encoded data removed]",
      "text/plain": [
       "<Figure size 600x400 with 1 Axes>"
      ]
     },
     "metadata": {},
     "output_type": "display_data"
    }
   ],
   "source": [
    "plt.figure(figsize=(6, 4))\n",
    "\n",
    "plt.plot(tree, aucs_val_eta_03, linestyle='dashed', label='eta=0.3')\n",
    "plt.plot(tree, aucs_val_eta_01, linestyle='dashed', label='eta=0.1')\n",
    "plt.plot(tree, aucs_val_eta_005, linestyle='solid', label='eta=0.05')\n",
    "plt.plot(tree, aucs_val_eta_001, linestyle='dashed', label='eta=0.01')\n",
    "\n",
    "plt.xticks(range(0, 501, 100))\n",
    "\n",
    "plt.legend()\n",
    "\n",
    "plt.title('The effect of eta on model performance')\n",
    "plt.xlabel('Number of trees')\n",
    "plt.ylabel('AUC (validation)')\n",
    "\n",
    "plt.show()"
   ]
  },
  {
   "cell_type": "markdown",
   "id": "414f3c7e-8c88-45fb-985f-5fe299d71b3c",
   "metadata": {},
   "source": [
    "#### Настройка параметров XGBoost max_depth=3"
   ]
  },
  {
   "cell_type": "code",
   "execution_count": 185,
   "id": "abfbfde1-e0b2-46dd-a786-9328a5544974",
   "metadata": {},
   "outputs": [],
   "source": [
    "xgb_params = {\n",
    "    'eta': 0.05,\n",
    "    'max_depth': 3,\n",
    "    'min_child_weight': 1,\n",
    "\n",
    "    'objective': 'binary:logistic',\n",
    "    'eval_metric': 'auc',\n",
    "    'nthread': 4,\n",
    "    'seed': 23\n",
    "}\n"
   ]
  },
  {
   "cell_type": "code",
   "execution_count": 186,
   "id": "af02ead7-282c-47a9-a678-61c92b5622b1",
   "metadata": {},
   "outputs": [],
   "source": [
    "%%capture output\n",
    "model = xgb.train(xgb_params, dtrain, num_boost_round=500, \\\n",
    "                 evals=watchlist, verbose_eval=10)"
   ]
  },
  {
   "cell_type": "code",
   "execution_count": 187,
   "id": "29096df2-2b2f-45d2-b66b-3288ebe5f681",
   "metadata": {},
   "outputs": [
    {
     "name": "stdout",
     "output_type": "stream",
     "text": [
      "0.85909\n",
      "(0.85909, 170)\n"
     ]
    }
   ],
   "source": [
    "tree, _, aucs_val_depth3 = parse_xgb_output(output)\n",
    "print(max(aucs_val_depth3))\n",
    "print(max(zip(aucs_val_depth3, tree)))"
   ]
  },
  {
   "cell_type": "markdown",
   "id": "1f4deef5-8bba-4e81-b787-8c3a7b34957e",
   "metadata": {},
   "source": [
    "#### Настройка параметров XGBoost max_depth=4"
   ]
  },
  {
   "cell_type": "code",
   "execution_count": 189,
   "id": "11b27a52-4bd3-46da-9c79-613b5e772468",
   "metadata": {},
   "outputs": [],
   "source": [
    "xgb_params = {\n",
    "    'eta': 0.05,\n",
    "    'max_depth': 4,\n",
    "    'min_child_weight': 1,\n",
    "\n",
    "    'objective': 'binary:logistic',\n",
    "    'eval_metric': 'auc',\n",
    "    'nthread': 4,\n",
    "    'seed': 23\n",
    "}\n"
   ]
  },
  {
   "cell_type": "code",
   "execution_count": 190,
   "id": "a5bbeff6-6455-45ff-ad63-d2e00857ca70",
   "metadata": {},
   "outputs": [],
   "source": [
    "%%capture output\n",
    "model = xgb.train(xgb_params, dtrain, num_boost_round=500, \\\n",
    "                 evals=watchlist, verbose_eval=10)"
   ]
  },
  {
   "cell_type": "code",
   "execution_count": 191,
   "id": "5138b10a-a2a8-4f58-8d6b-2679772064df",
   "metadata": {},
   "outputs": [
    {
     "name": "stdout",
     "output_type": "stream",
     "text": [
      "0.8576\n",
      "(0.8576, 100)\n"
     ]
    }
   ],
   "source": [
    "tree, _, aucs_val_depth4 = parse_xgb_output(output)\n",
    "print(max(aucs_val_depth4))\n",
    "print(max(zip(aucs_val_depth4, tree)))"
   ]
  },
  {
   "cell_type": "markdown",
   "id": "d9f20987-53c1-430f-afda-a22c314dab4d",
   "metadata": {},
   "source": [
    "#### Настройка параметров XGBoost max_depth=6"
   ]
  },
  {
   "cell_type": "code",
   "execution_count": 192,
   "id": "6364a2cf-34cb-4f25-ace4-7b233389e01d",
   "metadata": {},
   "outputs": [],
   "source": [
    "xgb_params = {\n",
    "    'eta': 0.05,\n",
    "    'max_depth': 6,\n",
    "    'min_child_weight': 1,\n",
    "\n",
    "    'objective': 'binary:logistic',\n",
    "    'eval_metric': 'auc',\n",
    "    'nthread': 4,\n",
    "    'seed': 23\n",
    "}\n"
   ]
  },
  {
   "cell_type": "code",
   "execution_count": 193,
   "id": "bc6e6b49-4aa8-4f52-8b0f-34d3375e2594",
   "metadata": {},
   "outputs": [],
   "source": [
    "%%capture output\n",
    "model = xgb.train(xgb_params, dtrain, num_boost_round=500, \\\n",
    "                 evals=watchlist, verbose_eval=10)"
   ]
  },
  {
   "cell_type": "code",
   "execution_count": 194,
   "id": "25030f28-91dd-4b78-bf6e-02221d505de4",
   "metadata": {},
   "outputs": [
    {
     "name": "stdout",
     "output_type": "stream",
     "text": [
      "0.85576\n",
      "(0.85576, 80)\n"
     ]
    }
   ],
   "source": [
    "tree, _, aucs_val_depth6 = parse_xgb_output(output)\n",
    "print(max(aucs_val_depth6))\n",
    "print(max(zip(aucs_val_depth6, tree)))"
   ]
  },
  {
   "cell_type": "markdown",
   "id": "98598147-691e-4c98-84cc-a73047bd5618",
   "metadata": {},
   "source": [
    "#### Настройка параметров XGBoost max_depth=10"
   ]
  },
  {
   "cell_type": "code",
   "execution_count": 195,
   "id": "3aad4d3a-ca6b-46b8-bcd6-4b7270710ab9",
   "metadata": {},
   "outputs": [],
   "source": [
    "xgb_params = {\n",
    "    'eta': 0.05,\n",
    "    'max_depth': 10,\n",
    "    'min_child_weight': 1,\n",
    "\n",
    "    'objective': 'binary:logistic',\n",
    "    'eval_metric': 'auc',\n",
    "    'nthread': 4,\n",
    "    'seed': 23\n",
    "}\n"
   ]
  },
  {
   "cell_type": "code",
   "execution_count": 196,
   "id": "5698adbd-8779-45ef-af7c-b353450ff2f1",
   "metadata": {},
   "outputs": [],
   "source": [
    "%%capture output\n",
    "model = xgb.train(xgb_params, dtrain, num_boost_round=500, \\\n",
    "                 evals=watchlist, verbose_eval=10)"
   ]
  },
  {
   "cell_type": "code",
   "execution_count": 197,
   "id": "5a130b83-fd4a-4e7e-8d31-8fef444e7e0c",
   "metadata": {},
   "outputs": [
    {
     "name": "stdout",
     "output_type": "stream",
     "text": [
      "0.84649\n",
      "(0.84649, 70)\n"
     ]
    }
   ],
   "source": [
    "tree, _, aucs_val_depth10 = parse_xgb_output(output)\n",
    "print(max(aucs_val_depth10))\n",
    "print(max(zip(aucs_val_depth10, tree)))"
   ]
  },
  {
   "cell_type": "code",
   "execution_count": 198,
   "id": "351126c7-84d0-4900-8763-66786c9966c5",
   "metadata": {},
   "outputs": [
    {
     "data": {
      "image/png": "[encoded data removed]",
      "text/plain": [
       "<Figure size 600x400 with 1 Axes>"
      ]
     },
     "metadata": {},
     "output_type": "display_data"
    }
   ],
   "source": [
    "plt.figure(figsize=(6, 4))\n",
    "\n",
    "plt.plot(tree, aucs_val_depth3, linestyle='dashed', label='max_depth=3')\n",
    "plt.plot(tree, aucs_val_depth4, linestyle='dashed', label='max_depth=4')\n",
    "plt.plot(tree, aucs_val_depth6, linestyle='solid', label='max_depth=6')\n",
    "plt.plot(tree, aucs_val_depth10, linestyle='solid', label='max_depth=10')\n",
    "\n",
    "\n",
    "plt.ylim(0.75, 0.875)\n",
    "plt.xlim(-10, 510)\n",
    "plt.xticks(range(0, 501, 100))\n",
    "\n",
    "plt.legend()\n",
    "\n",
    "plt.title('The effect of max_depth on model performance')\n",
    "plt.xlabel('Number of trees')\n",
    "plt.ylabel('AUC (validation)')\n",
    "\n",
    "plt.show()"
   ]
  },
  {
   "cell_type": "markdown",
   "id": "17518377-2f9d-420b-a421-a4d623d8714d",
   "metadata": {},
   "source": [
    "#### Настройка параметров XGBoost min_child_weight=1"
   ]
  },
  {
   "cell_type": "code",
   "execution_count": 199,
   "id": "5c3a68c0-e5c4-4cd2-984e-d02018ddbf2c",
   "metadata": {},
   "outputs": [],
   "source": [
    "xgb_params = {\n",
    "    'eta': 0.05,\n",
    "    'max_depth': 3,\n",
    "    'min_child_weight': 1,\n",
    "\n",
    "    'objective': 'binary:logistic',\n",
    "    'eval_metric': 'auc',\n",
    "    'nthread': 4,\n",
    "    'seed': 23\n",
    "}\n"
   ]
  },
  {
   "cell_type": "code",
   "execution_count": 200,
   "id": "d3fae99d-5357-4b17-9ae1-a47baa24b498",
   "metadata": {},
   "outputs": [],
   "source": [
    "%%capture output\n",
    "model = xgb.train(xgb_params, dtrain, num_boost_round=500, \\\n",
    "                 evals=watchlist, verbose_eval=10)"
   ]
  },
  {
   "cell_type": "code",
   "execution_count": 201,
   "id": "62e444d8-fee1-4f19-b436-c2cbcea3099b",
   "metadata": {},
   "outputs": [
    {
     "name": "stdout",
     "output_type": "stream",
     "text": [
      "0.85909\n",
      "(0.85909, 170)\n"
     ]
    }
   ],
   "source": [
    "tree, _, aucs_val_mcw1 = parse_xgb_output(output)\n",
    "print(max(aucs_val_mcw1))\n",
    "print(max(zip(aucs_val_mcw1, tree)))"
   ]
  },
  {
   "cell_type": "markdown",
   "id": "689b65f9-0659-4883-ba4d-7e75828bab47",
   "metadata": {},
   "source": [
    "#### Настройка параметров XGBoost min_child_weight=10"
   ]
  },
  {
   "cell_type": "code",
   "execution_count": 202,
   "id": "27d3c25b-cd78-4942-844e-4665c3460488",
   "metadata": {},
   "outputs": [],
   "source": [
    "xgb_params = {\n",
    "    'eta': 0.05,\n",
    "    'max_depth': 3,\n",
    "    'min_child_weight': 10,\n",
    "\n",
    "    'objective': 'binary:logistic',\n",
    "    'eval_metric': 'auc',\n",
    "    'nthread': 4,\n",
    "    'seed': 23\n",
    "}\n"
   ]
  },
  {
   "cell_type": "code",
   "execution_count": 203,
   "id": "ce1782ee-03e0-4bf0-91ea-a3065e86cadb",
   "metadata": {},
   "outputs": [],
   "source": [
    "%%capture output\n",
    "model = xgb.train(xgb_params, dtrain, num_boost_round=500, \\\n",
    "                 evals=watchlist, verbose_eval=10)"
   ]
  },
  {
   "cell_type": "code",
   "execution_count": 204,
   "id": "d9e58e5d-b851-4bc3-aa9e-3e4495e92b1b",
   "metadata": {},
   "outputs": [
    {
     "name": "stdout",
     "output_type": "stream",
     "text": [
      "0.86428\n",
      "(0.86428, 210)\n"
     ]
    }
   ],
   "source": [
    "tree, _, aucs_val_mcw10 = parse_xgb_output(output)\n",
    "print(max(aucs_val_mcw10))\n",
    "print(max(zip(aucs_val_mcw10, tree)))"
   ]
  },
  {
   "cell_type": "markdown",
   "id": "a3f12772-d756-4102-8d21-c14e075115e7",
   "metadata": {},
   "source": [
    "#### Настройка параметров XGBoost min_child_weight=30"
   ]
  },
  {
   "cell_type": "code",
   "execution_count": 205,
   "id": "6642a6ff-2864-4423-8f8d-5968b68bb1e3",
   "metadata": {},
   "outputs": [],
   "source": [
    "xgb_params = {\n",
    "    'eta': 0.05,\n",
    "    'max_depth': 3,\n",
    "    'min_child_weight': 30,\n",
    "\n",
    "    'objective': 'binary:logistic',\n",
    "    'eval_metric': 'auc',\n",
    "    'nthread': 4,\n",
    "    'seed': 23\n",
    "}\n"
   ]
  },
  {
   "cell_type": "code",
   "execution_count": 206,
   "id": "374da63a-860b-4906-b134-925411649112",
   "metadata": {},
   "outputs": [],
   "source": [
    "%%capture output\n",
    "model = xgb.train(xgb_params, dtrain, num_boost_round=500, \\\n",
    "                 evals=watchlist, verbose_eval=10)"
   ]
  },
  {
   "cell_type": "code",
   "execution_count": 207,
   "id": "80bdc59c-34d5-4b14-8ea9-fdb1cb94e798",
   "metadata": {},
   "outputs": [
    {
     "name": "stdout",
     "output_type": "stream",
     "text": [
      "0.86696\n",
      "(0.86696, 290)\n"
     ]
    }
   ],
   "source": [
    "tree, _, aucs_val_mcw30 = parse_xgb_output(output)\n",
    "print(max(aucs_val_mcw30))\n",
    "print(max(zip(aucs_val_mcw30, tree)))"
   ]
  },
  {
   "cell_type": "code",
   "execution_count": 208,
   "id": "82b8cdfa-b858-4ebe-830b-54ee1cec9d44",
   "metadata": {},
   "outputs": [
    {
     "data": {
      "image/png": "[encoded data removed]",
      "text/plain": [
       "<Figure size 600x400 with 1 Axes>"
      ]
     },
     "metadata": {},
     "output_type": "display_data"
    }
   ],
   "source": [
    "plt.figure(figsize=(6, 4))\n",
    "\n",
    "plt.plot(tree, aucs_val_mcw1, linestyle='solid', label='min_child_weight=1')\n",
    "plt.plot(tree, aucs_val_mcw10, linestyle='solid', label='min_child_weight=10')\n",
    "plt.plot(tree, aucs_val_mcw30, linestyle='dashed', label='min_child_weight=30')\n",
    "\n",
    "\n",
    "plt.ylim(0.75, 0.875)\n",
    "plt.xlim(-10, 510)\n",
    "plt.xticks(range(0, 501, 100))\n",
    "\n",
    "plt.legend()\n",
    "\n",
    "plt.title('The effect of min_child_weight on model performance')\n",
    "plt.xlabel('Number of trees')\n",
    "plt.ylabel('AUC (validation)')\n",
    "\n",
    "plt.show()"
   ]
  },
  {
   "cell_type": "markdown",
   "id": "0975c211-392d-4965-96c4-156b6335b7ca",
   "metadata": {},
   "source": [
    "#### Параметры окончательной модели:"
   ]
  },
  {
   "cell_type": "code",
   "execution_count": 231,
   "id": "1f5373df-11e0-493b-86bf-7dda53790287",
   "metadata": {},
   "outputs": [],
   "source": [
    "xgb_params = {\n",
    "    'eta': 0.05,\n",
    "    'max_depth': 3,\n",
    "    'min_child_weight': 30,\n",
    "\n",
    "    'objective': 'binary:logistic',\n",
    "    'eval_metric': 'auc',\n",
    "    'nthread': 4,\n",
    "    'seed': 23\n",
    "}\n"
   ]
  },
  {
   "cell_type": "markdown",
   "id": "1c06d1a7-7bec-4ce4-805c-b805a5e34077",
   "metadata": {},
   "source": [
    "#### Обучим окончательную модель Градиентного бустинга"
   ]
  },
  {
   "cell_type": "code",
   "execution_count": 232,
   "id": "7df89ead-4022-40b5-99d8-32b3702432ed",
   "metadata": {},
   "outputs": [],
   "source": [
    "%%capture output\n",
    "model = xgb.train(xgb_params, dtrain, num_boost_round=500, \\\n",
    "                 evals=watchlist, verbose_eval=10)"
   ]
  },
  {
   "cell_type": "code",
   "execution_count": 233,
   "id": "f0f92347-6f9c-475c-8b2e-2082a5b281ce",
   "metadata": {},
   "outputs": [
    {
     "name": "stdout",
     "output_type": "stream",
     "text": [
      "0.86696\n",
      "(0.86696, 290)\n"
     ]
    }
   ],
   "source": [
    "tree, _, aucs_val_final = parse_xgb_output(output)\n",
    "print(max(aucs_val_final))\n",
    "print(max(zip(aucs_val_final, tree)))"
   ]
  },
  {
   "cell_type": "code",
   "execution_count": 234,
   "id": "46f0976f-3925-43fc-9c95-10a782eaf6bb",
   "metadata": {},
   "outputs": [
    {
     "name": "stdout",
     "output_type": "stream",
     "text": [
      "0.864\n"
     ]
    }
   ],
   "source": [
    "y_pred_xgb = model.predict(dval)\n",
    "auc = roc_auc_score(y_val, y_pred_xgb)\n",
    "print('%.3f' % auc)"
   ]
  },
  {
   "cell_type": "markdown",
   "id": "b11a9a44-25ae-4ed7-8f64-63f9664777d8",
   "metadata": {},
   "source": [
    "#### Приведём вместе лучшие результаты AUC на проверочных данных для Дерева решений, Случайного леса и Градиентного бустинга:"
   ]
  },
  {
   "cell_type": "code",
   "execution_count": 244,
   "id": "a1a337b3-188c-4179-85a2-1039fc68d197",
   "metadata": {},
   "outputs": [
    {
     "name": "stdout",
     "output_type": "stream",
     "text": [
      "0.49956198399193297\n",
      "0.5018150879183211\n",
      "0.5129829205268797\n"
     ]
    }
   ],
   "source": [
    "print(roc_auc_score(y_val, y_pred_dt))\n",
    "print(roc_auc_score(y_val, y_pred_rf))\n",
    "print(roc_auc_score(y_val, y_pred_xgb))"
   ]
  },
  {
   "cell_type": "markdown",
   "id": "70fa611b-3c94-4c26-b5a2-434871eeba2f",
   "metadata": {},
   "source": [
    "# 6. Результаты на тестовой выборке"
   ]
  },
  {
   "cell_type": "markdown",
   "id": "6a3be497-c856-4ae6-9d26-24976d5c82a9",
   "metadata": {},
   "source": [
    "#### Протестируем выбранную модель градиентного бустинга на тестовом наборе"
   ]
  },
  {
   "cell_type": "code",
   "execution_count": 240,
   "id": "f3df2c42-c2c8-4bcf-a044-b6d9d1f4bc4a",
   "metadata": {},
   "outputs": [],
   "source": [
    "xgb_params = {\n",
    "    'eta': 0.05,\n",
    "    'max_depth': 3,\n",
    "    'min_child_weight': 30,\n",
    "\n",
    "    'objective': 'binary:logistic',\n",
    "    'eval_metric': 'auc',\n",
    "    'nthread': 4,\n",
    "    'seed': 23\n",
    "}\n",
    "\n",
    "xgb_final = xgb.train(xgb_params, dtrain, num_boost_round=500)"
   ]
  },
  {
   "cell_type": "markdown",
   "id": "51406f95-3572-4fcc-8e81-50aa8a0fd5f9",
   "metadata": {},
   "source": [
    "#### XGBoost"
   ]
  },
  {
   "cell_type": "code",
   "execution_count": 241,
   "id": "93fc1d30-90b5-4a97-a6c0-43531aa25134",
   "metadata": {},
   "outputs": [
    {
     "name": "stdout",
     "output_type": "stream",
     "text": [
      "0.8420407682337693\n"
     ]
    }
   ],
   "source": [
    "y_pred_xgb = xgb_final.predict(dtest)\n",
    "print(roc_auc_score(y_test, y_pred_xgb))"
   ]
  },
  {
   "cell_type": "markdown",
   "id": "a245d76c-801a-4d6b-b544-c4a2c4430411",
   "metadata": {},
   "source": [
    "#### Random Forest"
   ]
  },
  {
   "cell_type": "code",
   "execution_count": 242,
   "id": "7dbc2816-830d-49fb-81f7-c42c15f78bee",
   "metadata": {},
   "outputs": [
    {
     "data": {
      "text/plain": [
       "0.8375338753387535"
      ]
     },
     "execution_count": 242,
     "metadata": {},
     "output_type": "execute_result"
    }
   ],
   "source": [
    "y_pred_rf = rf.predict_proba(X_test)[:, 1]\n",
    "roc_auc_score(y_test, y_pred_rf)"
   ]
  },
  {
   "cell_type": "markdown",
   "id": "7ef6bb56-447e-41d3-90f7-fb52b341b133",
   "metadata": {},
   "source": [
    "#### Decision Tree"
   ]
  },
  {
   "cell_type": "code",
   "execution_count": 243,
   "id": "e3b0bf21-0e25-4b61-bc74-3f5cc71addb3",
   "metadata": {},
   "outputs": [
    {
     "data": {
      "text/plain": [
       "0.7894603511252504"
      ]
     },
     "execution_count": 243,
     "metadata": {},
     "output_type": "execute_result"
    }
   ],
   "source": [
    "y_pred_dt = dt.predict_proba(X_test)[:, 1]\n",
    "roc_auc_score(y_test, y_pred_dt)"
   ]
  },
  {
   "cell_type": "code",
   "execution_count": null,
   "id": "3348abb4-adfa-46cd-b7f9-957c22635b20",
   "metadata": {},
   "outputs": [],
   "source": []
  }
 ],
 "metadata": {
  "kernelspec": {
   "display_name": "Python 3 (ipykernel)",
   "language": "python",
   "name": "python3"
  },
  "language_info": {
   "codemirror_mode": {
    "name": "ipython",
    "version": 3
   },
   "file_extension": ".py",
   "mimetype": "text/x-python",
   "name": "python",
   "nbconvert_exporter": "python",
   "pygments_lexer": "ipython3",
   "version": "3.10.10"
  }
 },
 "nbformat": 4,
 "nbformat_minor": 5
}
